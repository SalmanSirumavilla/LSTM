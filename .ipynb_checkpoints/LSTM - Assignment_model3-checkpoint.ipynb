{
 "cells": [
  {
   "cell_type": "markdown",
   "metadata": {
    "id": "8KKTJTnyXH52"
   },
   "source": [
    "## Assignment : 14"
   ]
  },
  {
   "cell_type": "markdown",
   "metadata": {
    "id": "PxrZdIq7XH6A"
   },
   "source": [
    "<pre>\n",
    "1. Preprocess all the Data we have in DonorsChoose <a href='https://drive.google.com/drive/folders/1MIwK7BQMev8f5CbDDVNLPaFGB32pFN60'>Dataset</a> use train.csv\n",
    "2. Combine 4 essay's into one column named - 'preprocessed_essays'. \n",
    "3. After step 2 you have to train 3 types of models as discussed below. \n",
    "4. For all the model use <a href='https://scikit-learn.org/stable/modules/model_evaluation.html#roc-metrics'>'auc'</a> as a metric. check <a href='https://datascience.stackexchange.com/a/20192'>this</a> for using auc as a metric \n",
    "5. You are free to choose any number of layers/hiddden units but you have to use same type of architectures shown below. \n",
    "6. You can use any one of the optimizers and choice of Learning rate and momentum, resources: <a href='http://cs231n.github.io/neural-networks-3/'>cs231n class notes</a>, <a href='https://www.youtube.com/watch?v=hd_KFJ5ktUc'>cs231n class video</a>. \n",
    "7. For all the model's use <a href='https://www.youtube.com/watch?v=2U6Jl7oqRkM'>TensorBoard</a> and plot the Metric value and Loss with epoch. While submitting, take a screenshot of plots and include those images in .ipynb notebook and PDF. \n",
    "8. Use Categorical Cross Entropy as Loss to minimize.\n",
    "</pre>"
   ]
  },
  {
   "cell_type": "markdown",
   "metadata": {
    "id": "KhtFpUpcXH6Q"
   },
   "source": [
    "### 1. Go through this blog, if you have any doubt on using predefined Embedding values in Embedding layer - https://machinelearningmastery.com/use-word-embedding-layers-deep-learning-keras/\n",
    "### 2. Please go through this link https://keras.io/getting-started/functional-api-guide/ and check the 'Multi-input and multi-output models' then you will get to know how to give multiple inputs. "
   ]
  },
  {
   "cell_type": "code",
   "execution_count": null,
   "metadata": {
    "id": "UEIbaUZgX0Wi"
   },
   "outputs": [],
   "source": []
  },
  {
   "cell_type": "code",
   "execution_count": null,
   "metadata": {
    "colab": {
     "base_uri": "https://localhost:8080/"
    },
    "executionInfo": {
     "elapsed": 29382,
     "status": "ok",
     "timestamp": 1630986403936,
     "user": {
      "displayName": "Salman Sirumavilla",
      "photoUrl": "https://lh3.googleusercontent.com/a-/AOh14Gi0eIW6m0KUAHjPJMwwHdBSdC3UNQb_j8rzibSj=s64",
      "userId": "03152498435222547468"
     },
     "user_tz": -330
    },
    "id": "Q4WnPf5uX1y5",
    "outputId": "963957ae-46d2-4666-bbb8-9f537ff8f181"
   },
   "outputs": [
    {
     "name": "stdout",
     "output_type": "stream",
     "text": [
      "Mounted at /content/drive\n"
     ]
    }
   ],
   "source": [
    "from google.colab import drive\n",
    "drive.mount('/content/drive')"
   ]
  },
  {
   "cell_type": "code",
   "execution_count": null,
   "metadata": {
    "id": "68gN0BY8XH6S"
   },
   "outputs": [],
   "source": [
    "import numpy as np\n",
    "import pandas as pd"
   ]
  },
  {
   "cell_type": "code",
   "execution_count": null,
   "metadata": {
    "id": "Jo1KCmxXXH6S"
   },
   "outputs": [],
   "source": [
    "import tensorflow as tf\n",
    "from tensorflow import keras\n",
    "from tensorflow.keras import layers"
   ]
  },
  {
   "cell_type": "code",
   "execution_count": null,
   "metadata": {
    "id": "rc3Ue94OXH6T"
   },
   "outputs": [],
   "source": [
    "processed_data=pd.read_csv('/content/drive/MyDrive/Applied ai/for_colab/preprocessed_data.csv')"
   ]
  },
  {
   "cell_type": "code",
   "execution_count": null,
   "metadata": {
    "colab": {
     "base_uri": "https://localhost:8080/",
     "height": 643
    },
    "executionInfo": {
     "elapsed": 686,
     "status": "ok",
     "timestamp": 1630986424881,
     "user": {
      "displayName": "Salman Sirumavilla",
      "photoUrl": "https://lh3.googleusercontent.com/a-/AOh14Gi0eIW6m0KUAHjPJMwwHdBSdC3UNQb_j8rzibSj=s64",
      "userId": "03152498435222547468"
     },
     "user_tz": -330
    },
    "id": "f7wfUSo9XH6U",
    "outputId": "9693c18a-73d3-48de-8abf-e7a61b4f83cc"
   },
   "outputs": [
    {
     "data": {
      "text/html": [
       "<div>\n",
       "<style scoped>\n",
       "    .dataframe tbody tr th:only-of-type {\n",
       "        vertical-align: middle;\n",
       "    }\n",
       "\n",
       "    .dataframe tbody tr th {\n",
       "        vertical-align: top;\n",
       "    }\n",
       "\n",
       "    .dataframe thead th {\n",
       "        text-align: right;\n",
       "    }\n",
       "</style>\n",
       "<table border=\"1\" class=\"dataframe\">\n",
       "  <thead>\n",
       "    <tr style=\"text-align: right;\">\n",
       "      <th></th>\n",
       "      <th>school_state</th>\n",
       "      <th>teacher_prefix</th>\n",
       "      <th>project_grade_category</th>\n",
       "      <th>teacher_number_of_previously_posted_projects</th>\n",
       "      <th>project_is_approved</th>\n",
       "      <th>clean_categories</th>\n",
       "      <th>clean_subcategories</th>\n",
       "      <th>essay</th>\n",
       "      <th>price</th>\n",
       "    </tr>\n",
       "  </thead>\n",
       "  <tbody>\n",
       "    <tr>\n",
       "      <th>0</th>\n",
       "      <td>ca</td>\n",
       "      <td>mrs</td>\n",
       "      <td>grades_prek_2</td>\n",
       "      <td>53</td>\n",
       "      <td>1</td>\n",
       "      <td>math_science</td>\n",
       "      <td>appliedsciences health_lifescience</td>\n",
       "      <td>i fortunate enough use fairy tale stem kits cl...</td>\n",
       "      <td>725.05</td>\n",
       "    </tr>\n",
       "    <tr>\n",
       "      <th>1</th>\n",
       "      <td>ut</td>\n",
       "      <td>ms</td>\n",
       "      <td>grades_3_5</td>\n",
       "      <td>4</td>\n",
       "      <td>1</td>\n",
       "      <td>specialneeds</td>\n",
       "      <td>specialneeds</td>\n",
       "      <td>imagine 8 9 years old you third grade classroo...</td>\n",
       "      <td>213.03</td>\n",
       "    </tr>\n",
       "    <tr>\n",
       "      <th>2</th>\n",
       "      <td>ca</td>\n",
       "      <td>mrs</td>\n",
       "      <td>grades_prek_2</td>\n",
       "      <td>10</td>\n",
       "      <td>1</td>\n",
       "      <td>literacy_language</td>\n",
       "      <td>literacy</td>\n",
       "      <td>having class 24 students comes diverse learner...</td>\n",
       "      <td>329.00</td>\n",
       "    </tr>\n",
       "    <tr>\n",
       "      <th>3</th>\n",
       "      <td>ga</td>\n",
       "      <td>mrs</td>\n",
       "      <td>grades_prek_2</td>\n",
       "      <td>2</td>\n",
       "      <td>1</td>\n",
       "      <td>appliedlearning</td>\n",
       "      <td>earlydevelopment</td>\n",
       "      <td>i recently read article giving students choice...</td>\n",
       "      <td>481.04</td>\n",
       "    </tr>\n",
       "    <tr>\n",
       "      <th>4</th>\n",
       "      <td>wa</td>\n",
       "      <td>mrs</td>\n",
       "      <td>grades_3_5</td>\n",
       "      <td>2</td>\n",
       "      <td>1</td>\n",
       "      <td>literacy_language</td>\n",
       "      <td>literacy</td>\n",
       "      <td>my students crave challenge eat obstacles brea...</td>\n",
       "      <td>17.74</td>\n",
       "    </tr>\n",
       "  </tbody>\n",
       "</table>\n",
       "</div>"
      ],
      "text/plain": [
       "  school_state  ...   price\n",
       "0           ca  ...  725.05\n",
       "1           ut  ...  213.03\n",
       "2           ca  ...  329.00\n",
       "3           ga  ...  481.04\n",
       "4           wa  ...   17.74\n",
       "\n",
       "[5 rows x 9 columns]"
      ]
     },
     "execution_count": 5,
     "metadata": {},
     "output_type": "execute_result"
    }
   ],
   "source": [
    "processed_data.head()"
   ]
  },
  {
   "cell_type": "code",
   "execution_count": null,
   "metadata": {
    "colab": {
     "base_uri": "https://localhost:8080/"
    },
    "executionInfo": {
     "elapsed": 11,
     "status": "ok",
     "timestamp": 1630986425988,
     "user": {
      "displayName": "Salman Sirumavilla",
      "photoUrl": "https://lh3.googleusercontent.com/a-/AOh14Gi0eIW6m0KUAHjPJMwwHdBSdC3UNQb_j8rzibSj=s64",
      "userId": "03152498435222547468"
     },
     "user_tz": -330
    },
    "id": "l31P6y0oXH6V",
    "outputId": "a5741178-8e29-4866-bf1c-92b91feb2bc1"
   },
   "outputs": [
    {
     "data": {
      "text/plain": [
       "(109248, 9)"
      ]
     },
     "execution_count": 6,
     "metadata": {},
     "output_type": "execute_result"
    }
   ],
   "source": [
    "processed_data.shape"
   ]
  },
  {
   "cell_type": "code",
   "execution_count": null,
   "metadata": {
    "id": "EmJzSxRlXH6W"
   },
   "outputs": [],
   "source": [
    "y = processed_data['project_is_approved']\n",
    "X = processed_data.drop(['project_is_approved'],axis=1)"
   ]
  },
  {
   "cell_type": "code",
   "execution_count": null,
   "metadata": {
    "colab": {
     "base_uri": "https://localhost:8080/"
    },
    "executionInfo": {
     "elapsed": 6,
     "status": "ok",
     "timestamp": 1630986427997,
     "user": {
      "displayName": "Salman Sirumavilla",
      "photoUrl": "https://lh3.googleusercontent.com/a-/AOh14Gi0eIW6m0KUAHjPJMwwHdBSdC3UNQb_j8rzibSj=s64",
      "userId": "03152498435222547468"
     },
     "user_tz": -330
    },
    "id": "ynUXiNVlXH6X",
    "outputId": "a33c8765-0623-4c7d-c151-dd7f3eb591e7"
   },
   "outputs": [
    {
     "name": "stdout",
     "output_type": "stream",
     "text": [
      "(109248, 8) (109248,)\n"
     ]
    }
   ],
   "source": [
    "print(X.shape, y.shape)"
   ]
  },
  {
   "cell_type": "code",
   "execution_count": null,
   "metadata": {
    "id": "yAFulQsYXH6Y"
   },
   "outputs": [],
   "source": [
    "from sklearn.model_selection import train_test_split\n",
    "X_train, X_test, y_train, y_test = train_test_split(X, y, test_size=0.22, stratify=y)\n",
    "X_train, X_cv, y_train, y_cv = train_test_split(X_train, y_train, test_size=0.22, stratify=y_train)"
   ]
  },
  {
   "cell_type": "code",
   "execution_count": null,
   "metadata": {
    "colab": {
     "base_uri": "https://localhost:8080/"
    },
    "executionInfo": {
     "elapsed": 31,
     "status": "ok",
     "timestamp": 1630986429448,
     "user": {
      "displayName": "Salman Sirumavilla",
      "photoUrl": "https://lh3.googleusercontent.com/a-/AOh14Gi0eIW6m0KUAHjPJMwwHdBSdC3UNQb_j8rzibSj=s64",
      "userId": "03152498435222547468"
     },
     "user_tz": -330
    },
    "id": "e4J3x7xyXH6Y",
    "outputId": "ea2f37cc-fb5d-4702-9ea3-a2536fa786c5"
   },
   "outputs": [
    {
     "name": "stdout",
     "output_type": "stream",
     "text": [
      "(66466, 8) (24035, 8) (18747, 8)\n"
     ]
    }
   ],
   "source": [
    "print(X_train.shape, X_test.shape, X_cv.shape)"
   ]
  },
  {
   "cell_type": "code",
   "execution_count": null,
   "metadata": {
    "colab": {
     "base_uri": "https://localhost:8080/",
     "height": 380
    },
    "executionInfo": {
     "elapsed": 25,
     "status": "ok",
     "timestamp": 1630986429449,
     "user": {
      "displayName": "Salman Sirumavilla",
      "photoUrl": "https://lh3.googleusercontent.com/a-/AOh14Gi0eIW6m0KUAHjPJMwwHdBSdC3UNQb_j8rzibSj=s64",
      "userId": "03152498435222547468"
     },
     "user_tz": -330
    },
    "id": "KND7Xk58XH6Z",
    "outputId": "f3d5e1b2-f8e1-4ffa-e929-491f73657a79"
   },
   "outputs": [
    {
     "data": {
      "text/html": [
       "<div>\n",
       "<style scoped>\n",
       "    .dataframe tbody tr th:only-of-type {\n",
       "        vertical-align: middle;\n",
       "    }\n",
       "\n",
       "    .dataframe tbody tr th {\n",
       "        vertical-align: top;\n",
       "    }\n",
       "\n",
       "    .dataframe thead th {\n",
       "        text-align: right;\n",
       "    }\n",
       "</style>\n",
       "<table border=\"1\" class=\"dataframe\">\n",
       "  <thead>\n",
       "    <tr style=\"text-align: right;\">\n",
       "      <th></th>\n",
       "      <th>school_state</th>\n",
       "      <th>teacher_prefix</th>\n",
       "      <th>project_grade_category</th>\n",
       "      <th>teacher_number_of_previously_posted_projects</th>\n",
       "      <th>clean_categories</th>\n",
       "      <th>clean_subcategories</th>\n",
       "      <th>essay</th>\n",
       "      <th>price</th>\n",
       "    </tr>\n",
       "  </thead>\n",
       "  <tbody>\n",
       "    <tr>\n",
       "      <th>14367</th>\n",
       "      <td>pa</td>\n",
       "      <td>mrs</td>\n",
       "      <td>grades_prek_2</td>\n",
       "      <td>13</td>\n",
       "      <td>appliedlearning health_sports</td>\n",
       "      <td>earlydevelopment health_wellness</td>\n",
       "      <td>children walk classroom hopes learn instead fi...</td>\n",
       "      <td>227.50</td>\n",
       "    </tr>\n",
       "    <tr>\n",
       "      <th>108613</th>\n",
       "      <td>or</td>\n",
       "      <td>ms</td>\n",
       "      <td>grades_9_12</td>\n",
       "      <td>1</td>\n",
       "      <td>literacy_language</td>\n",
       "      <td>literacy</td>\n",
       "      <td>our students culturally linguistically socioec...</td>\n",
       "      <td>419.19</td>\n",
       "    </tr>\n",
       "    <tr>\n",
       "      <th>104542</th>\n",
       "      <td>dc</td>\n",
       "      <td>mrs</td>\n",
       "      <td>grades_3_5</td>\n",
       "      <td>5</td>\n",
       "      <td>music_arts</td>\n",
       "      <td>music</td>\n",
       "      <td>many students interested guitar school guitars...</td>\n",
       "      <td>26.59</td>\n",
       "    </tr>\n",
       "  </tbody>\n",
       "</table>\n",
       "</div>"
      ],
      "text/plain": [
       "       school_state  ...   price\n",
       "14367            pa  ...  227.50\n",
       "108613           or  ...  419.19\n",
       "104542           dc  ...   26.59\n",
       "\n",
       "[3 rows x 8 columns]"
      ]
     },
     "execution_count": 11,
     "metadata": {},
     "output_type": "execute_result"
    }
   ],
   "source": [
    "X_train.head(3)"
   ]
  },
  {
   "cell_type": "markdown",
   "metadata": {
    "id": "P9NL5g_eXH6a"
   },
   "source": [
    "## Essay encoding:"
   ]
  },
  {
   "cell_type": "code",
   "execution_count": null,
   "metadata": {
    "id": "8yECzGviXH6b"
   },
   "outputs": [],
   "source": [
    "essay_encode_train=X_train['essay'].tolist()\n",
    "essay_encode_test=X_test['essay'].tolist()\n",
    "essay_encode_cv=X_cv['essay'].tolist()"
   ]
  },
  {
   "cell_type": "code",
   "execution_count": null,
   "metadata": {
    "colab": {
     "base_uri": "https://localhost:8080/"
    },
    "executionInfo": {
     "elapsed": 10,
     "status": "ok",
     "timestamp": 1630986432890,
     "user": {
      "displayName": "Salman Sirumavilla",
      "photoUrl": "https://lh3.googleusercontent.com/a-/AOh14Gi0eIW6m0KUAHjPJMwwHdBSdC3UNQb_j8rzibSj=s64",
      "userId": "03152498435222547468"
     },
     "user_tz": -330
    },
    "id": "ZtoL0kCkXH6b",
    "outputId": "1a5265ac-6abe-459b-a454-ac13439f4a4c"
   },
   "outputs": [
    {
     "data": {
      "text/plain": [
       "18747"
      ]
     },
     "execution_count": 13,
     "metadata": {},
     "output_type": "execute_result"
    }
   ],
   "source": [
    "len(essay_encode_cv)"
   ]
  },
  {
   "cell_type": "code",
   "execution_count": null,
   "metadata": {
    "colab": {
     "base_uri": "https://localhost:8080/",
     "height": 137
    },
    "executionInfo": {
     "elapsed": 6,
     "status": "ok",
     "timestamp": 1630986432891,
     "user": {
      "displayName": "Salman Sirumavilla",
      "photoUrl": "https://lh3.googleusercontent.com/a-/AOh14Gi0eIW6m0KUAHjPJMwwHdBSdC3UNQb_j8rzibSj=s64",
      "userId": "03152498435222547468"
     },
     "user_tz": -330
    },
    "id": "J_I7L3IMXH6c",
    "outputId": "b513d35d-43cf-40b0-e8e3-0c5a1d709dc9"
   },
   "outputs": [
    {
     "data": {
      "application/vnd.google.colaboratory.intrinsic+json": {
       "type": "string"
      },
      "text/plain": [
       "'children walk classroom hopes learn instead find cracked chairs small i donor choose project chairs years ago worked great however years several chairs broken chairs decorated student art work i would like replace get set larger chairs growing students the kindergarteners mckees rocks pa come school challenged beyond 5 year olds experience here children come kindergarten unprepared hungry tired cold nervous our school struggled meet children basic necessities providing free breakfasts lunches winter coats book bags school supplies help complete homework please help make children feel safer comfortable help provide students solid chair kindergarteners love learn new things however school afford limited amount paper supplies forces teachers become resourceful i asked something simple chairs years ago i graciously received donation classroom chairs however years several broken scribbled bottoms scratch floors unfortunately chairs small please help provide safe chairs every child classroom coming school pleasant experience while parent worry bullies learning security not worry child chair help make children feel safe secure learn donating donor choose thank generous consideration support school teachers importantly our children nannan'"
      ]
     },
     "execution_count": 14,
     "metadata": {},
     "output_type": "execute_result"
    }
   ],
   "source": [
    "essay_encode_train[0]"
   ]
  },
  {
   "cell_type": "code",
   "execution_count": null,
   "metadata": {
    "id": "grPm3CQVXH6d"
   },
   "outputs": [],
   "source": [
    "token=tf.keras.preprocessing.text.Tokenizer()"
   ]
  },
  {
   "cell_type": "code",
   "execution_count": null,
   "metadata": {
    "id": "yJys2ZQ8XH6e"
   },
   "outputs": [],
   "source": [
    "token.fit_on_texts(essay_encode_train)"
   ]
  },
  {
   "cell_type": "code",
   "execution_count": null,
   "metadata": {
    "colab": {
     "base_uri": "https://localhost:8080/"
    },
    "executionInfo": {
     "elapsed": 36,
     "status": "ok",
     "timestamp": 1630986439999,
     "user": {
      "displayName": "Salman Sirumavilla",
      "photoUrl": "https://lh3.googleusercontent.com/a-/AOh14Gi0eIW6m0KUAHjPJMwwHdBSdC3UNQb_j8rzibSj=s64",
      "userId": "03152498435222547468"
     },
     "user_tz": -330
    },
    "id": "wcDQ5njqXH6h",
    "outputId": "30fb781f-9d3d-4dea-d164-ae712ff50cbb"
   },
   "outputs": [
    {
     "data": {
      "text/plain": [
       "dict"
      ]
     },
     "execution_count": 17,
     "metadata": {},
     "output_type": "execute_result"
    }
   ],
   "source": [
    "type(token.word_index)"
   ]
  },
  {
   "cell_type": "code",
   "execution_count": null,
   "metadata": {
    "id": "fMSX2mkzXH6i"
   },
   "outputs": [],
   "source": [
    "#token.word_index"
   ]
  },
  {
   "cell_type": "code",
   "execution_count": null,
   "metadata": {
    "id": "Gla9EhnqXH6j"
   },
   "outputs": [],
   "source": [
    "#token.index_word"
   ]
  },
  {
   "cell_type": "code",
   "execution_count": null,
   "metadata": {
    "id": "mNO9XHygXH6k"
   },
   "outputs": [],
   "source": [
    "encoded_essay_train=token.texts_to_sequences(essay_encode_train)\n",
    "encoded_essay_test=token.texts_to_sequences(essay_encode_test)\n",
    "encoded_essay_cv=token.texts_to_sequences(essay_encode_cv)"
   ]
  },
  {
   "cell_type": "code",
   "execution_count": null,
   "metadata": {
    "id": "0WEPJE2EXH6k"
   },
   "outputs": [],
   "source": [
    "vocab_size=len(token.word_index)+1"
   ]
  },
  {
   "cell_type": "code",
   "execution_count": null,
   "metadata": {
    "colab": {
     "base_uri": "https://localhost:8080/"
    },
    "executionInfo": {
     "elapsed": 36,
     "status": "ok",
     "timestamp": 1630986448604,
     "user": {
      "displayName": "Salman Sirumavilla",
      "photoUrl": "https://lh3.googleusercontent.com/a-/AOh14Gi0eIW6m0KUAHjPJMwwHdBSdC3UNQb_j8rzibSj=s64",
      "userId": "03152498435222547468"
     },
     "user_tz": -330
    },
    "id": "BkVcUNSvXH6k",
    "outputId": "7bce1df4-aba3-41d0-c5c2-2efba4a87037"
   },
   "outputs": [
    {
     "data": {
      "text/plain": [
       "46331"
      ]
     },
     "execution_count": 22,
     "metadata": {},
     "output_type": "execute_result"
    }
   ],
   "source": [
    "vocab_size"
   ]
  },
  {
   "cell_type": "code",
   "execution_count": null,
   "metadata": {
    "colab": {
     "base_uri": "https://localhost:8080/"
    },
    "executionInfo": {
     "elapsed": 28,
     "status": "ok",
     "timestamp": 1630986448604,
     "user": {
      "displayName": "Salman Sirumavilla",
      "photoUrl": "https://lh3.googleusercontent.com/a-/AOh14Gi0eIW6m0KUAHjPJMwwHdBSdC3UNQb_j8rzibSj=s64",
      "userId": "03152498435222547468"
     },
     "user_tz": -330
    },
    "id": "taMZlhHQXH6l",
    "outputId": "b08350b2-ec03-459f-9a07-9fc37d634489"
   },
   "outputs": [
    {
     "data": {
      "text/plain": [
       "(46330, 46330)"
      ]
     },
     "execution_count": 23,
     "metadata": {},
     "output_type": "execute_result"
    }
   ],
   "source": [
    "len(token.index_word), len(token.word_index)"
   ]
  },
  {
   "cell_type": "code",
   "execution_count": null,
   "metadata": {
    "id": "aWfvBA3yXH6m"
   },
   "outputs": [],
   "source": [
    "glove_mat=np.zeros((vocab_size, 300))"
   ]
  },
  {
   "cell_type": "code",
   "execution_count": null,
   "metadata": {
    "colab": {
     "base_uri": "https://localhost:8080/"
    },
    "executionInfo": {
     "elapsed": 21,
     "status": "ok",
     "timestamp": 1630986448604,
     "user": {
      "displayName": "Salman Sirumavilla",
      "photoUrl": "https://lh3.googleusercontent.com/a-/AOh14Gi0eIW6m0KUAHjPJMwwHdBSdC3UNQb_j8rzibSj=s64",
      "userId": "03152498435222547468"
     },
     "user_tz": -330
    },
    "id": "VXDqdEexXH6m",
    "outputId": "5ec65dda-f82c-4445-f1c4-99a35b6541ad"
   },
   "outputs": [
    {
     "data": {
      "text/plain": [
       "array([[0., 0., 0., ..., 0., 0., 0.],\n",
       "       [0., 0., 0., ..., 0., 0., 0.],\n",
       "       [0., 0., 0., ..., 0., 0., 0.],\n",
       "       ...,\n",
       "       [0., 0., 0., ..., 0., 0., 0.],\n",
       "       [0., 0., 0., ..., 0., 0., 0.],\n",
       "       [0., 0., 0., ..., 0., 0., 0.]])"
      ]
     },
     "execution_count": 25,
     "metadata": {},
     "output_type": "execute_result"
    }
   ],
   "source": [
    "glove_mat"
   ]
  },
  {
   "cell_type": "code",
   "execution_count": null,
   "metadata": {
    "colab": {
     "base_uri": "https://localhost:8080/"
    },
    "executionInfo": {
     "elapsed": 13,
     "status": "ok",
     "timestamp": 1630986449294,
     "user": {
      "displayName": "Salman Sirumavilla",
      "photoUrl": "https://lh3.googleusercontent.com/a-/AOh14Gi0eIW6m0KUAHjPJMwwHdBSdC3UNQb_j8rzibSj=s64",
      "userId": "03152498435222547468"
     },
     "user_tz": -330
    },
    "id": "rBp7HToZXH6n",
    "outputId": "d876b5db-53ce-4bdc-aab0-f15aaebcd4a0"
   },
   "outputs": [
    {
     "data": {
      "text/plain": [
       "(46331, 300)"
      ]
     },
     "execution_count": 26,
     "metadata": {},
     "output_type": "execute_result"
    }
   ],
   "source": [
    "glove_mat.shape"
   ]
  },
  {
   "cell_type": "code",
   "execution_count": null,
   "metadata": {
    "id": "0zLs1i_IXH6o"
   },
   "outputs": [],
   "source": [
    "#encoded_essay_train[:5]"
   ]
  },
  {
   "cell_type": "code",
   "execution_count": null,
   "metadata": {
    "colab": {
     "base_uri": "https://localhost:8080/"
    },
    "executionInfo": {
     "elapsed": 10,
     "status": "ok",
     "timestamp": 1630986458415,
     "user": {
      "displayName": "Salman Sirumavilla",
      "photoUrl": "https://lh3.googleusercontent.com/a-/AOh14Gi0eIW6m0KUAHjPJMwwHdBSdC3UNQb_j8rzibSj=s64",
      "userId": "03152498435222547468"
     },
     "user_tz": -330
    },
    "id": "_nt-lv4sXH6p",
    "outputId": "ebee2680-b47d-413a-d48d-48e99fa8c6bd"
   },
   "outputs": [
    {
     "data": {
      "text/plain": [
       "66466"
      ]
     },
     "execution_count": 28,
     "metadata": {},
     "output_type": "execute_result"
    }
   ],
   "source": [
    "len(encoded_essay_train)"
   ]
  },
  {
   "cell_type": "code",
   "execution_count": null,
   "metadata": {
    "colab": {
     "base_uri": "https://localhost:8080/"
    },
    "executionInfo": {
     "elapsed": 578,
     "status": "ok",
     "timestamp": 1630986465985,
     "user": {
      "displayName": "Salman Sirumavilla",
      "photoUrl": "https://lh3.googleusercontent.com/a-/AOh14Gi0eIW6m0KUAHjPJMwwHdBSdC3UNQb_j8rzibSj=s64",
      "userId": "03152498435222547468"
     },
     "user_tz": -330
    },
    "id": "WzoCOM1YXH6r",
    "outputId": "81bd8512-9012-4782-9b84-90df0bc3dbb0"
   },
   "outputs": [
    {
     "name": "stdout",
     "output_type": "stream",
     "text": [
      "331\n"
     ]
    }
   ],
   "source": [
    "mx_len=0\n",
    "for ele in encoded_essay_train:\n",
    "    if len(ele)>mx_len:\n",
    "        mx_len=len(ele)\n",
    "print(mx_len)\n"
   ]
  },
  {
   "cell_type": "code",
   "execution_count": null,
   "metadata": {
    "id": "xLNL89SoXH6r"
   },
   "outputs": [],
   "source": [
    "from tensorflow.keras.preprocessing.sequence import pad_sequences\n",
    "essay_padded_train=pad_sequences(encoded_essay_train, maxlen=mx_len, padding='pre')\n",
    "essay_padded_test=pad_sequences(encoded_essay_test, maxlen=mx_len, padding='pre')\n",
    "essay_padded_cv=pad_sequences(encoded_essay_cv, maxlen=mx_len, padding='pre')"
   ]
  },
  {
   "cell_type": "code",
   "execution_count": null,
   "metadata": {
    "colab": {
     "base_uri": "https://localhost:8080/"
    },
    "executionInfo": {
     "elapsed": 15,
     "status": "ok",
     "timestamp": 1630986469310,
     "user": {
      "displayName": "Salman Sirumavilla",
      "photoUrl": "https://lh3.googleusercontent.com/a-/AOh14Gi0eIW6m0KUAHjPJMwwHdBSdC3UNQb_j8rzibSj=s64",
      "userId": "03152498435222547468"
     },
     "user_tz": -330
    },
    "id": "wDD2b-E3XH6s",
    "outputId": "5292a8ef-c3f2-4d77-e28c-b3029eb20fa5"
   },
   "outputs": [
    {
     "data": {
      "text/plain": [
       "(66466, 24035, 18747)"
      ]
     },
     "execution_count": 31,
     "metadata": {},
     "output_type": "execute_result"
    }
   ],
   "source": [
    "len(essay_padded_train), len(essay_padded_test), len(essay_padded_cv)"
   ]
  },
  {
   "cell_type": "code",
   "execution_count": null,
   "metadata": {
    "colab": {
     "base_uri": "https://localhost:8080/"
    },
    "executionInfo": {
     "elapsed": 9,
     "status": "ok",
     "timestamp": 1630986470652,
     "user": {
      "displayName": "Salman Sirumavilla",
      "photoUrl": "https://lh3.googleusercontent.com/a-/AOh14Gi0eIW6m0KUAHjPJMwwHdBSdC3UNQb_j8rzibSj=s64",
      "userId": "03152498435222547468"
     },
     "user_tz": -330
    },
    "id": "1opVh1aTXH6s",
    "outputId": "9d33b928-2f0b-42e4-a0bd-622ae6a57dca"
   },
   "outputs": [
    {
     "data": {
      "text/plain": [
       "array([[    0,     0,     0,     0,     0,     0,     0,     0,     0,\n",
       "            0,     0,     0,     0,     0,     0,     0,     0,     0,\n",
       "            0,     0,     0,     0,     0,     0,     0,     0,     0,\n",
       "            0,     0,     0,     0,     0,     0,     0,     0,     0,\n",
       "            0,     0,     0,     0,     0,     0,     0,     0,     0,\n",
       "            0,     0,     0,     0,     0,     0,     0,     0,     0,\n",
       "            0,     0,     0,     0,     0,     0,     0,     0,     0,\n",
       "            0,     0,     0,     0,     0,     0,     0,     0,     0,\n",
       "            0,     0,     0,     0,     0,     0,     0,     0,     0,\n",
       "            0,     0,     0,     0,     0,     0,     0,     0,     0,\n",
       "            0,     0,     0,     0,     0,     0,     0,     0,     0,\n",
       "            0,     0,     0,     0,     0,     0,     0,     0,     0,\n",
       "            0,     0,     0,     0,     0,     0,     0,     0,     0,\n",
       "            0,     0,     0,     0,     0,     0,     0,     0,     0,\n",
       "            0,     0,     0,     0,     0,     0,     0,     0,     0,\n",
       "            0,     0,     0,     0,     0,     0,     0,     0,     0,\n",
       "            0,     0,     0,     0,     0,     0,     0,     0,     0,\n",
       "            0,     0,     0,    47,   395,     6,  1961,    10,   602,\n",
       "          185,  6565,   174,    82,     2,  2638,   295,    52,   174,\n",
       "          157,  1480,  1221,    91,   196,   157,   291,   174,  1163,\n",
       "          174,  7172,    36,   126,    16,     2,    24,    53,  1554,\n",
       "           40,   189,  1296,   174,   446,     1,     7,  1020, 29750,\n",
       "         3109,  5049,    22,     3,   886,   458,   315,    30,   836,\n",
       "           99,  2558,    47,    22,   142,  5008,   863,  2418,  1873,\n",
       "         3330,    25,     3,  2916,   204,    47,   271,  1816,   274,\n",
       "           63,  5557,   946,  2024,  3654,   117,  1002,     3,    86,\n",
       "           11,   273,  1022,   372,    11,    33,    47,   137,  3898,\n",
       "          225,    11,    46,     1,  2115,   417,  1020,    19,    10,\n",
       "           31,   111,   196,     3,   715,   223,   643,   261,    86,\n",
       "         3124,   168,   101,  3914,     2,   543,   257,   589,   174,\n",
       "          157,  1480,     2,  8030,  1260,   414,     6,   174,   196,\n",
       "          157,   291,  1163, 21213,  7516,  2971,  4960,   520,   174,\n",
       "           82,   372,    11,    46,   200,   174,    44,   188,     6,\n",
       "          359,     3,  5818,    99,   457,   499,  1424,  9988,     5,\n",
       "         3667,     8,  1424,   188,   417,    11,    33,    47,   137,\n",
       "          200,  2082,    10,   826,  2638,   295,   389,   870,  2068,\n",
       "          109,     3,   168,  1197,    25,    47,    13]], dtype=int32)"
      ]
     },
     "execution_count": 32,
     "metadata": {},
     "output_type": "execute_result"
    }
   ],
   "source": [
    "essay_padded_train[:1]"
   ]
  },
  {
   "cell_type": "code",
   "execution_count": null,
   "metadata": {
    "colab": {
     "base_uri": "https://localhost:8080/"
    },
    "executionInfo": {
     "elapsed": 5,
     "status": "ok",
     "timestamp": 1630986471220,
     "user": {
      "displayName": "Salman Sirumavilla",
      "photoUrl": "https://lh3.googleusercontent.com/a-/AOh14Gi0eIW6m0KUAHjPJMwwHdBSdC3UNQb_j8rzibSj=s64",
      "userId": "03152498435222547468"
     },
     "user_tz": -330
    },
    "id": "idBTO_YhXH6t",
    "outputId": "d479b5a1-8ddd-4e6b-dabb-d695a8585339"
   },
   "outputs": [
    {
     "data": {
      "text/plain": [
       "331"
      ]
     },
     "execution_count": 33,
     "metadata": {},
     "output_type": "execute_result"
    }
   ],
   "source": [
    "len(essay_padded_train[5])"
   ]
  },
  {
   "cell_type": "code",
   "execution_count": null,
   "metadata": {
    "colab": {
     "base_uri": "https://localhost:8080/"
    },
    "executionInfo": {
     "elapsed": 9,
     "status": "ok",
     "timestamp": 1630986472014,
     "user": {
      "displayName": "Salman Sirumavilla",
      "photoUrl": "https://lh3.googleusercontent.com/a-/AOh14Gi0eIW6m0KUAHjPJMwwHdBSdC3UNQb_j8rzibSj=s64",
      "userId": "03152498435222547468"
     },
     "user_tz": -330
    },
    "id": "bzGoi8TwXH6t",
    "outputId": "ab0cb14e-c902-45cd-82a3-2d0e8e0bc43b"
   },
   "outputs": [
    {
     "data": {
      "text/plain": [
       "331"
      ]
     },
     "execution_count": 34,
     "metadata": {},
     "output_type": "execute_result"
    }
   ],
   "source": [
    "len(essay_padded_test[5])"
   ]
  },
  {
   "cell_type": "code",
   "execution_count": null,
   "metadata": {
    "id": "DMABIjGvXH6u"
   },
   "outputs": [],
   "source": [
    "#token.index_word.items()"
   ]
  },
  {
   "cell_type": "code",
   "execution_count": null,
   "metadata": {
    "id": "e8_fSi2UXH6u"
   },
   "outputs": [],
   "source": [
    "try:\n",
    "    import dill as pickle\n",
    "except ImportError:\n",
    "    import pickle"
   ]
  },
  {
   "cell_type": "code",
   "execution_count": null,
   "metadata": {
    "id": "lciI_4TjXH6u"
   },
   "outputs": [],
   "source": [
    "with open('/content/drive/MyDrive/Applied ai/for_colab/glove_vectors', 'rb') as f:\n",
    "    model = pickle.load(f)\n",
    "    glove_words =  set(model.keys())"
   ]
  },
  {
   "cell_type": "code",
   "execution_count": null,
   "metadata": {
    "id": "CABrUTqLXH6v"
   },
   "outputs": [],
   "source": [
    "#glove_words"
   ]
  },
  {
   "cell_type": "code",
   "execution_count": null,
   "metadata": {
    "colab": {
     "base_uri": "https://localhost:8080/"
    },
    "executionInfo": {
     "elapsed": 33,
     "status": "ok",
     "timestamp": 1630986477303,
     "user": {
      "displayName": "Salman Sirumavilla",
      "photoUrl": "https://lh3.googleusercontent.com/a-/AOh14Gi0eIW6m0KUAHjPJMwwHdBSdC3UNQb_j8rzibSj=s64",
      "userId": "03152498435222547468"
     },
     "user_tz": -330
    },
    "id": "747Thw1yXH6w",
    "outputId": "a838cfc3-8916-439b-f9b0-81be998e11f4"
   },
   "outputs": [
    {
     "name": "stdout",
     "output_type": "stream",
     "text": [
      "Totally  4433  words are not there in glove\n"
     ]
    }
   ],
   "source": [
    "non_glove_words=[]\n",
    "for index, word in token.index_word.items():\n",
    "    if word in glove_words:\n",
    "        glove_mat[index]=model[word]\n",
    "        \n",
    "    else:\n",
    "        non_glove_words.append(word)\n",
    "print('Totally ',len(non_glove_words),' words are not there in glove')"
   ]
  },
  {
   "cell_type": "code",
   "execution_count": null,
   "metadata": {
    "id": "ds9XRxH-XH6x"
   },
   "outputs": [],
   "source": [
    "#non_glove_words"
   ]
  },
  {
   "cell_type": "code",
   "execution_count": null,
   "metadata": {
    "colab": {
     "base_uri": "https://localhost:8080/"
    },
    "executionInfo": {
     "elapsed": 25,
     "status": "ok",
     "timestamp": 1630986477304,
     "user": {
      "displayName": "Salman Sirumavilla",
      "photoUrl": "https://lh3.googleusercontent.com/a-/AOh14Gi0eIW6m0KUAHjPJMwwHdBSdC3UNQb_j8rzibSj=s64",
      "userId": "03152498435222547468"
     },
     "user_tz": -330
    },
    "id": "VpBSAMYYXH6x",
    "outputId": "b33c2860-7b31-403b-9275-209f1a84a481"
   },
   "outputs": [
    {
     "data": {
      "text/plain": [
       "array([[ 0.       ,  0.       ,  0.       , ...,  0.       ,  0.       ,\n",
       "         0.       ],\n",
       "       [ 0.15243  , -0.16945  , -0.022748 , ...,  0.61801  ,  0.41281  ,\n",
       "         0.0010077],\n",
       "       [-0.043504 , -0.18484  , -0.14613  , ...,  0.1008   ,  0.1068   ,\n",
       "         0.089065 ],\n",
       "       ...,\n",
       "       [ 0.02275  , -0.027457 , -0.17443  , ..., -0.16559  , -0.010907 ,\n",
       "         0.25632  ],\n",
       "       [ 0.       ,  0.       ,  0.       , ...,  0.       ,  0.       ,\n",
       "         0.       ],\n",
       "       [ 0.51299  , -0.24741  , -0.0097454, ..., -0.18383  , -0.54002  ,\n",
       "         0.12206  ]])"
      ]
     },
     "execution_count": 41,
     "metadata": {},
     "output_type": "execute_result"
    }
   ],
   "source": [
    "glove_mat"
   ]
  },
  {
   "cell_type": "code",
   "execution_count": null,
   "metadata": {
    "colab": {
     "base_uri": "https://localhost:8080/"
    },
    "executionInfo": {
     "elapsed": 19,
     "status": "ok",
     "timestamp": 1630986477305,
     "user": {
      "displayName": "Salman Sirumavilla",
      "photoUrl": "https://lh3.googleusercontent.com/a-/AOh14Gi0eIW6m0KUAHjPJMwwHdBSdC3UNQb_j8rzibSj=s64",
      "userId": "03152498435222547468"
     },
     "user_tz": -330
    },
    "id": "-ZgENu-YXH6x",
    "outputId": "9e2cc4e7-5e90-41f8-b9cb-2b90910914b1"
   },
   "outputs": [
    {
     "data": {
      "text/plain": [
       "(46331, 300)"
      ]
     },
     "execution_count": 42,
     "metadata": {},
     "output_type": "execute_result"
    }
   ],
   "source": [
    "glove_mat.shape"
   ]
  },
  {
   "cell_type": "markdown",
   "metadata": {
    "id": "TVirs46YXH6y"
   },
   "source": [
    "## School_state encoding:"
   ]
  },
  {
   "cell_type": "code",
   "execution_count": null,
   "metadata": {
    "id": "_m9X_uDtXH6y"
   },
   "outputs": [],
   "source": [
    "from sklearn.preprocessing import OneHotEncoder\n",
    "enc = OneHotEncoder(handle_unknown='ignore')\n",
    "school_state_train=enc.fit_transform(np.array(X_train['school_state']).reshape(-1,1))\n",
    "school_state_test=enc.transform(np.array(X_test['school_state']).reshape(-1,1))\n",
    "school_state_cv=enc.transform(np.array(X_cv['school_state']).reshape(-1,1))"
   ]
  },
  {
   "cell_type": "code",
   "execution_count": null,
   "metadata": {
    "colab": {
     "base_uri": "https://localhost:8080/"
    },
    "executionInfo": {
     "elapsed": 522,
     "status": "ok",
     "timestamp": 1630986500196,
     "user": {
      "displayName": "Salman Sirumavilla",
      "photoUrl": "https://lh3.googleusercontent.com/a-/AOh14Gi0eIW6m0KUAHjPJMwwHdBSdC3UNQb_j8rzibSj=s64",
      "userId": "03152498435222547468"
     },
     "user_tz": -330
    },
    "id": "fbmF-wbdXH6y",
    "outputId": "cbae91a4-75eb-4bdb-f442-682da42ca167"
   },
   "outputs": [
    {
     "data": {
      "text/plain": [
       "((66466, 51), (24035, 51), (18747, 51))"
      ]
     },
     "execution_count": 44,
     "metadata": {},
     "output_type": "execute_result"
    }
   ],
   "source": [
    "school_state_train.shape, school_state_test.shape, school_state_cv.shape"
   ]
  },
  {
   "cell_type": "code",
   "execution_count": null,
   "metadata": {
    "colab": {
     "base_uri": "https://localhost:8080/"
    },
    "executionInfo": {
     "elapsed": 12,
     "status": "ok",
     "timestamp": 1630986500197,
     "user": {
      "displayName": "Salman Sirumavilla",
      "photoUrl": "https://lh3.googleusercontent.com/a-/AOh14Gi0eIW6m0KUAHjPJMwwHdBSdC3UNQb_j8rzibSj=s64",
      "userId": "03152498435222547468"
     },
     "user_tz": -330
    },
    "id": "H78XogULXH6z",
    "outputId": "76ecb616-d4c0-4432-be83-c578e652af62"
   },
   "outputs": [
    {
     "data": {
      "text/plain": [
       "<1x51 sparse matrix of type '<class 'numpy.float64'>'\n",
       "\twith 1 stored elements in Compressed Sparse Row format>"
      ]
     },
     "execution_count": 45,
     "metadata": {},
     "output_type": "execute_result"
    }
   ],
   "source": [
    "school_state_train[5]"
   ]
  },
  {
   "cell_type": "markdown",
   "metadata": {
    "id": "kx145BJwXH61"
   },
   "source": [
    "## Project_grade:"
   ]
  },
  {
   "cell_type": "code",
   "execution_count": null,
   "metadata": {
    "colab": {
     "base_uri": "https://localhost:8080/"
    },
    "executionInfo": {
     "elapsed": 9,
     "status": "ok",
     "timestamp": 1630986500702,
     "user": {
      "displayName": "Salman Sirumavilla",
      "photoUrl": "https://lh3.googleusercontent.com/a-/AOh14Gi0eIW6m0KUAHjPJMwwHdBSdC3UNQb_j8rzibSj=s64",
      "userId": "03152498435222547468"
     },
     "user_tz": -330
    },
    "id": "TaRs-2Evf7eL",
    "outputId": "e7167db2-7553-43bc-b541-e274b46ace0d"
   },
   "outputs": [
    {
     "data": {
      "text/plain": [
       "grades_prek_2    26866\n",
       "grades_3_5       22601\n",
       "grades_6_8       10372\n",
       "grades_9_12       6627\n",
       "Name: project_grade_category, dtype: int64"
      ]
     },
     "execution_count": 46,
     "metadata": {},
     "output_type": "execute_result"
    }
   ],
   "source": [
    "X_train['project_grade_category'].value_counts()"
   ]
  },
  {
   "cell_type": "code",
   "execution_count": null,
   "metadata": {
    "id": "vMMkGN3tXH62"
   },
   "outputs": [],
   "source": [
    "enc = OneHotEncoder(handle_unknown='ignore')\n",
    "project_grad_train=enc.fit_transform(np.array(X_train['project_grade_category']).reshape(-1,1))\n",
    "project_grad_test=enc.transform(np.array(X_test['project_grade_category']).reshape(-1,1))\n",
    "project_grad_cv=enc.transform(np.array(X_cv['project_grade_category']).reshape(-1,1))"
   ]
  },
  {
   "cell_type": "code",
   "execution_count": null,
   "metadata": {
    "colab": {
     "base_uri": "https://localhost:8080/"
    },
    "executionInfo": {
     "elapsed": 10,
     "status": "ok",
     "timestamp": 1630986502853,
     "user": {
      "displayName": "Salman Sirumavilla",
      "photoUrl": "https://lh3.googleusercontent.com/a-/AOh14Gi0eIW6m0KUAHjPJMwwHdBSdC3UNQb_j8rzibSj=s64",
      "userId": "03152498435222547468"
     },
     "user_tz": -330
    },
    "id": "rZOhTuh2XH62",
    "outputId": "56fd01e2-4199-424d-b49f-3b2c7f6794e6"
   },
   "outputs": [
    {
     "data": {
      "text/plain": [
       "((66466, 4), (24035, 4), (18747, 4))"
      ]
     },
     "execution_count": 48,
     "metadata": {},
     "output_type": "execute_result"
    }
   ],
   "source": [
    "project_grad_train.shape, project_grad_test.shape, project_grad_cv.shape"
   ]
  },
  {
   "cell_type": "markdown",
   "metadata": {
    "id": "ZvijoJa1XH63"
   },
   "source": [
    "## Clean_categories:"
   ]
  },
  {
   "cell_type": "code",
   "execution_count": null,
   "metadata": {
    "id": "hqVuoW1OXH63"
   },
   "outputs": [],
   "source": [
    "from sklearn.feature_extraction.text import CountVectorizer\n",
    "vec = CountVectorizer()\n",
    "clean_cate_train=vec.fit_transform(X_train['clean_categories'])\n",
    "clean_cate_test=vec.transform(X_test['clean_categories'])\n",
    "clean_cate_cv=vec.transform(X_cv['clean_categories'])"
   ]
  },
  {
   "cell_type": "code",
   "execution_count": null,
   "metadata": {
    "colab": {
     "base_uri": "https://localhost:8080/"
    },
    "executionInfo": {
     "elapsed": 8,
     "status": "ok",
     "timestamp": 1630986506545,
     "user": {
      "displayName": "Salman Sirumavilla",
      "photoUrl": "https://lh3.googleusercontent.com/a-/AOh14Gi0eIW6m0KUAHjPJMwwHdBSdC3UNQb_j8rzibSj=s64",
      "userId": "03152498435222547468"
     },
     "user_tz": -330
    },
    "id": "aMWI-q62XH63",
    "outputId": "e6e2d4f7-2706-4684-c984-15312f7c1c7f"
   },
   "outputs": [
    {
     "data": {
      "text/plain": [
       "((66466, 9), (24035, 9), (18747, 9))"
      ]
     },
     "execution_count": 50,
     "metadata": {},
     "output_type": "execute_result"
    }
   ],
   "source": [
    "clean_cate_train.shape, clean_cate_test.shape, clean_cate_cv.shape"
   ]
  },
  {
   "cell_type": "markdown",
   "metadata": {
    "id": "880GLwdkXH67"
   },
   "source": [
    "## Clean_subcategory:"
   ]
  },
  {
   "cell_type": "code",
   "execution_count": null,
   "metadata": {
    "id": "3xYc9nRSXH68"
   },
   "outputs": [],
   "source": [
    "vec = CountVectorizer()\n",
    "clean_subcate_train=vec.fit_transform(X_train['clean_subcategories'])\n",
    "clean_subcate_test=vec.transform(X_test['clean_subcategories'])\n",
    "clean_subcate_cv=vec.transform(X_cv['clean_subcategories'])"
   ]
  },
  {
   "cell_type": "code",
   "execution_count": null,
   "metadata": {
    "colab": {
     "base_uri": "https://localhost:8080/"
    },
    "executionInfo": {
     "elapsed": 654,
     "status": "ok",
     "timestamp": 1630986508618,
     "user": {
      "displayName": "Salman Sirumavilla",
      "photoUrl": "https://lh3.googleusercontent.com/a-/AOh14Gi0eIW6m0KUAHjPJMwwHdBSdC3UNQb_j8rzibSj=s64",
      "userId": "03152498435222547468"
     },
     "user_tz": -330
    },
    "id": "DZIR6RsgXH68",
    "outputId": "90bc013a-c1a2-4125-e804-b0e77abf7850"
   },
   "outputs": [
    {
     "data": {
      "text/plain": [
       "((66466, 30), (24035, 30), (18747, 30))"
      ]
     },
     "execution_count": 52,
     "metadata": {},
     "output_type": "execute_result"
    }
   ],
   "source": [
    "clean_subcate_train.shape, clean_subcate_test.shape, clean_subcate_cv.shape"
   ]
  },
  {
   "cell_type": "markdown",
   "metadata": {
    "id": "epf9bSMrXH6_"
   },
   "source": [
    "## Teacher_prefix:"
   ]
  },
  {
   "cell_type": "code",
   "execution_count": null,
   "metadata": {
    "id": "Z9SskHnAXH6_",
    "scrolled": true
   },
   "outputs": [],
   "source": [
    "vec = CountVectorizer()\n",
    "teacher_prefix_train=vec.fit_transform(X_train['teacher_prefix'])\n",
    "teacher_prefix_test=vec.transform(X_test['teacher_prefix'])\n",
    "teacher_prefix_cv=vec.transform(X_cv['teacher_prefix'])"
   ]
  },
  {
   "cell_type": "code",
   "execution_count": null,
   "metadata": {
    "colab": {
     "base_uri": "https://localhost:8080/"
    },
    "executionInfo": {
     "elapsed": 517,
     "status": "ok",
     "timestamp": 1630986514109,
     "user": {
      "displayName": "Salman Sirumavilla",
      "photoUrl": "https://lh3.googleusercontent.com/a-/AOh14Gi0eIW6m0KUAHjPJMwwHdBSdC3UNQb_j8rzibSj=s64",
      "userId": "03152498435222547468"
     },
     "user_tz": -330
    },
    "id": "KFjxCuOcj5G8",
    "outputId": "f83acc7b-9b10-4914-c277-0deab0314338"
   },
   "outputs": [
    {
     "data": {
      "text/plain": [
       "((66466, 5), (24035, 5), (18747, 5))"
      ]
     },
     "execution_count": 54,
     "metadata": {},
     "output_type": "execute_result"
    }
   ],
   "source": [
    "teacher_prefix_train.shape, teacher_prefix_test.shape, teacher_prefix_cv.shape"
   ]
  },
  {
   "cell_type": "code",
   "execution_count": null,
   "metadata": {
    "id": "u13_z_l_XH7A"
   },
   "outputs": [],
   "source": [
    "#X_train['teacher_prefix'].tolist()"
   ]
  },
  {
   "cell_type": "code",
   "execution_count": null,
   "metadata": {
    "colab": {
     "base_uri": "https://localhost:8080/"
    },
    "executionInfo": {
     "elapsed": 12,
     "status": "ok",
     "timestamp": 1630986517087,
     "user": {
      "displayName": "Salman Sirumavilla",
      "photoUrl": "https://lh3.googleusercontent.com/a-/AOh14Gi0eIW6m0KUAHjPJMwwHdBSdC3UNQb_j8rzibSj=s64",
      "userId": "03152498435222547468"
     },
     "user_tz": -330
    },
    "id": "fFfSbZs5XH7A",
    "outputId": "63cec6c7-58b4-48ed-b73a-36148f4de5e4"
   },
   "outputs": [
    {
     "data": {
      "text/plain": [
       "mrs        34753\n",
       "ms         23839\n",
       "mr          6400\n",
       "teacher     1468\n",
       "dr             6\n",
       "Name: teacher_prefix, dtype: int64"
      ]
     },
     "execution_count": 56,
     "metadata": {},
     "output_type": "execute_result"
    }
   ],
   "source": [
    "X_train['teacher_prefix'].value_counts()"
   ]
  },
  {
   "cell_type": "markdown",
   "metadata": {
    "id": "q2K7odrnXH7B"
   },
   "source": [
    "## Numerical_features:"
   ]
  },
  {
   "cell_type": "code",
   "execution_count": null,
   "metadata": {
    "id": "J2OlEhfTXH7C"
   },
   "outputs": [],
   "source": [
    "from sklearn.preprocessing import StandardScaler\n",
    "scaler = StandardScaler()\n",
    "numerical_train=scaler.fit_transform(X_train[['teacher_number_of_previously_posted_projects', 'price']])\n",
    "numerical_test=scaler.transform(X_test[['teacher_number_of_previously_posted_projects', 'price']])\n",
    "numerical_cv=scaler.transform(X_cv[['teacher_number_of_previously_posted_projects', 'price']])"
   ]
  },
  {
   "cell_type": "code",
   "execution_count": null,
   "metadata": {
    "colab": {
     "base_uri": "https://localhost:8080/"
    },
    "executionInfo": {
     "elapsed": 10,
     "status": "ok",
     "timestamp": 1630987301156,
     "user": {
      "displayName": "Salman Sirumavilla",
      "photoUrl": "https://lh3.googleusercontent.com/a-/AOh14Gi0eIW6m0KUAHjPJMwwHdBSdC3UNQb_j8rzibSj=s64",
      "userId": "03152498435222547468"
     },
     "user_tz": -330
    },
    "id": "ZEeKD813XH7C",
    "outputId": "63d3cb6c-733f-424f-d497-5657bd684ee7"
   },
   "outputs": [
    {
     "data": {
      "text/plain": [
       "((66466, 2), (24035, 2), (18747, 2))"
      ]
     },
     "execution_count": 73,
     "metadata": {},
     "output_type": "execute_result"
    }
   ],
   "source": [
    "numerical_train.shape, numerical_test.shape, numerical_cv.shape"
   ]
  },
  {
   "cell_type": "code",
   "execution_count": null,
   "metadata": {
    "colab": {
     "base_uri": "https://localhost:8080/"
    },
    "executionInfo": {
     "elapsed": 517,
     "status": "ok",
     "timestamp": 1630987304835,
     "user": {
      "displayName": "Salman Sirumavilla",
      "photoUrl": "https://lh3.googleusercontent.com/a-/AOh14Gi0eIW6m0KUAHjPJMwwHdBSdC3UNQb_j8rzibSj=s64",
      "userId": "03152498435222547468"
     },
     "user_tz": -330
    },
    "id": "fya6on0zofm8",
    "outputId": "0e646d75-ebb7-46e6-9095-147b10b4bd69"
   },
   "outputs": [
    {
     "data": {
      "text/plain": [
       "5.2863626942101154e-17"
      ]
     },
     "execution_count": 74,
     "metadata": {},
     "output_type": "execute_result"
    }
   ],
   "source": [
    "numerical_train.mean()"
   ]
  },
  {
   "cell_type": "code",
   "execution_count": null,
   "metadata": {
    "colab": {
     "base_uri": "https://localhost:8080/"
    },
    "executionInfo": {
     "elapsed": 10,
     "status": "ok",
     "timestamp": 1630987306619,
     "user": {
      "displayName": "Salman Sirumavilla",
      "photoUrl": "https://lh3.googleusercontent.com/a-/AOh14Gi0eIW6m0KUAHjPJMwwHdBSdC3UNQb_j8rzibSj=s64",
      "userId": "03152498435222547468"
     },
     "user_tz": -330
    },
    "id": "4f4A8-ZUY7lv",
    "outputId": "27e283c3-5f6a-4c7e-c909-99d093e953ad"
   },
   "outputs": [
    {
     "data": {
      "text/plain": [
       "array([-0.40346562, -0.26479224])"
      ]
     },
     "execution_count": 75,
     "metadata": {},
     "output_type": "execute_result"
    }
   ],
   "source": [
    "numerical_train[5]"
   ]
  },
  {
   "cell_type": "code",
   "execution_count": null,
   "metadata": {
    "id": "hl9Uw6BcXH7C"
   },
   "outputs": [],
   "source": [
    "from tensorflow.keras.layers import Input, Embedding, LSTM, Concatenate, Dense,Dropout, Flatten\n",
    "from tensorflow.keras.models import Model\n",
    "from tensorflow.keras.optimizers import Adam"
   ]
  },
  {
   "cell_type": "code",
   "execution_count": null,
   "metadata": {
    "colab": {
     "base_uri": "https://localhost:8080/"
    },
    "executionInfo": {
     "elapsed": 6,
     "status": "ok",
     "timestamp": 1630987309977,
     "user": {
      "displayName": "Salman Sirumavilla",
      "photoUrl": "https://lh3.googleusercontent.com/a-/AOh14Gi0eIW6m0KUAHjPJMwwHdBSdC3UNQb_j8rzibSj=s64",
      "userId": "03152498435222547468"
     },
     "user_tz": -330
    },
    "id": "Ojzv0wQNXH7D",
    "outputId": "76a25727-3320-4244-e25c-0ce169089d12"
   },
   "outputs": [
    {
     "data": {
      "text/plain": [
       "(66466, 331)"
      ]
     },
     "execution_count": 77,
     "metadata": {},
     "output_type": "execute_result"
    }
   ],
   "source": [
    "essay_padded_train.shape"
   ]
  },
  {
   "cell_type": "code",
   "execution_count": null,
   "metadata": {
    "colab": {
     "base_uri": "https://localhost:8080/"
    },
    "executionInfo": {
     "elapsed": 9,
     "status": "ok",
     "timestamp": 1630987311030,
     "user": {
      "displayName": "Salman Sirumavilla",
      "photoUrl": "https://lh3.googleusercontent.com/a-/AOh14Gi0eIW6m0KUAHjPJMwwHdBSdC3UNQb_j8rzibSj=s64",
      "userId": "03152498435222547468"
     },
     "user_tz": -330
    },
    "id": "QY2GhaPUXH7D",
    "outputId": "2c79670f-a561-4fc4-c3d7-09daa6903d02"
   },
   "outputs": [
    {
     "data": {
      "text/plain": [
       "46331"
      ]
     },
     "execution_count": 78,
     "metadata": {},
     "output_type": "execute_result"
    }
   ],
   "source": [
    "vocab_size"
   ]
  },
  {
   "cell_type": "code",
   "execution_count": null,
   "metadata": {
    "id": "xUEc1MwzXH7G"
   },
   "outputs": [],
   "source": [
    "def lr_update(epoch,lr):\n",
    "    if epoch%5 == 0 and lr>1e-4:\n",
    "        return lr - (0.1*lr)\n",
    "    else:\n",
    "        return lr\n",
    "\n"
   ]
  },
  {
   "cell_type": "code",
   "execution_count": null,
   "metadata": {
    "id": "F5f7oOGUXH7H"
   },
   "outputs": [],
   "source": [
    "from sklearn.metrics import roc_auc_score\n",
    "def auc(y_true,y_pred):\n",
    "    return tf.py_function(roc_auc_score,(y_true,y_pred),tf.double)\n"
   ]
  },
  {
   "cell_type": "markdown",
   "metadata": {
    "id": "uJHXRiElXH7k"
   },
   "source": [
    "### Model-3"
   ]
  },
  {
   "cell_type": "markdown",
   "metadata": {
    "id": "vzmesUEPXH7k"
   },
   "source": [
    "<img src='https://i.imgur.com/fkQ8nGo.png'>\n",
    "ref: https://i.imgur.com/fkQ8nGo.png"
   ]
  },
  {
   "cell_type": "markdown",
   "metadata": {
    "id": "usPEodX3XH7k"
   },
   "source": [
    "\n",
    "- __input_seq_total_text_data__: <br>\n",
    "<pre>\n",
    "    . Use text column('essay'), and use the Embedding layer to get word vectors. <br>\n",
    "    . Use given predefined glove word vectors, don't train any word vectors. <br>\n",
    "    . Use LSTM that is given above, get the LSTM output and Flatten that output. <br>\n",
    "    . You are free to preprocess the input text as you needed. <br>\n",
    "</pre>\n",
    "- __Other_than_text_data__:<br>\n",
    "<pre>\n",
    "    . Convert all your Categorical values to onehot coded and then concatenate all these onehot vectors <br>\n",
    "    . Neumerical values and use <a href='https://keras.io/getting-started/sequential-model-guide/#sequence-classification-with-1d-convolutions'>CNN1D</a> as shown in above figure. <br>\n",
    "    . You are free to choose all CNN parameters like kernel sizes, stride.<br>\n",
    "    \n",
    "</pre>"
   ]
  },
  {
   "cell_type": "code",
   "execution_count": null,
   "metadata": {
    "id": "16OfJoI9XH7k"
   },
   "outputs": [],
   "source": [
    "#padded_idf_essay_train.shape, essay_padded_train.shape"
   ]
  },
  {
   "cell_type": "code",
   "execution_count": null,
   "metadata": {
    "colab": {
     "base_uri": "https://localhost:8080/"
    },
    "executionInfo": {
     "elapsed": 701,
     "status": "ok",
     "timestamp": 1630987315666,
     "user": {
      "displayName": "Salman Sirumavilla",
      "photoUrl": "https://lh3.googleusercontent.com/a-/AOh14Gi0eIW6m0KUAHjPJMwwHdBSdC3UNQb_j8rzibSj=s64",
      "userId": "03152498435222547468"
     },
     "user_tz": -330
    },
    "id": "ncXePfa-XH7l",
    "outputId": "0f66fc1a-c4c6-4580-f1f7-fd5c78fbc370"
   },
   "outputs": [
    {
     "name": "stdout",
     "output_type": "stream",
     "text": [
      "WARNING:tensorflow:`write_grads` will be ignored in TensorFlow 2.0 for the `TensorBoard` Callback.\n"
     ]
    }
   ],
   "source": [
    "from tensorflow.keras.callbacks import ModelCheckpoint\n",
    "from tensorflow.keras.callbacks import TerminateOnNaN\n",
    "from tensorflow.keras.callbacks import ReduceLROnPlateau\n",
    "from tensorflow.keras.callbacks import EarlyStopping\n",
    "from tensorflow.keras.callbacks import LearningRateScheduler\n",
    "from tensorflow.keras.callbacks import TensorBoard\n",
    "import datetime\n",
    "\n",
    "early_callback = EarlyStopping(monitor=\"val_auc\",patience=10,mode='auto')\n",
    "path=\"model3.hdf5\"\n",
    "log_dir=\"logs3/fit/\" + datetime.datetime.now().strftime(\"%Y%m%d-%H%M%S\")\n",
    "tensorboard_callback = TensorBoard(log_dir=log_dir,histogram_freq=1, write_graph=True,write_grads=True)\n",
    "model_callback = ModelCheckpoint(filepath=path, monitor='val_auc',  verbose=1, save_best_only=True, mode='max')\n",
    "terminate_callback = TerminateOnNaN()\n",
    "learning_rate_callback = LearningRateScheduler(lr_update,verbose=1)"
   ]
  },
  {
   "cell_type": "code",
   "execution_count": null,
   "metadata": {
    "id": "XwDpDxtPXH7l"
   },
   "outputs": [],
   "source": [
    "otherthan_text_data_train=np.hstack((school_state_train.todense(),project_grad_train.todense(),clean_cate_train.todense(),clean_subcate_train.todense(),teacher_prefix_train.todense(),numerical_train))\n",
    "otherthan_text_data_test=np.hstack((school_state_test.todense(),project_grad_test.todense(),clean_cate_test.todense(),clean_subcate_test.todense(),teacher_prefix_test.todense(),numerical_test))\n",
    "otherthan_text_data_cv=np.hstack((school_state_cv.todense(),project_grad_cv.todense(),clean_cate_cv.todense(),clean_subcate_cv.todense(),teacher_prefix_cv.todense(),numerical_cv))"
   ]
  },
  {
   "cell_type": "code",
   "execution_count": null,
   "metadata": {
    "colab": {
     "base_uri": "https://localhost:8080/"
    },
    "executionInfo": {
     "elapsed": 626,
     "status": "ok",
     "timestamp": 1630987323751,
     "user": {
      "displayName": "Salman Sirumavilla",
      "photoUrl": "https://lh3.googleusercontent.com/a-/AOh14Gi0eIW6m0KUAHjPJMwwHdBSdC3UNQb_j8rzibSj=s64",
      "userId": "03152498435222547468"
     },
     "user_tz": -330
    },
    "id": "cPQ7IkWLXH7l",
    "outputId": "d3a3b3bf-29fe-4f19-af79-395f277ac477"
   },
   "outputs": [
    {
     "data": {
      "text/plain": [
       "((66466, 101), (24035, 101), (18747, 101))"
      ]
     },
     "execution_count": 84,
     "metadata": {},
     "output_type": "execute_result"
    }
   ],
   "source": [
    "otherthan_text_data_train.shape, otherthan_text_data_test.shape, otherthan_text_data_cv.shape #1+1+3+5+1+2"
   ]
  },
  {
   "cell_type": "code",
   "execution_count": null,
   "metadata": {
    "id": "2rWhMBvYXH7l"
   },
   "outputs": [],
   "source": [
    "from tensorflow.keras.layers import Conv1D,MaxPool1D,Activation,Flatten\n",
    "\n",
    "#essay text\n",
    "essay_input = Input(shape=(mx_len,))\n",
    "essay_embed = Embedding(vocab_size, 300, input_length=mx_len,weights=[glove_mat],trainable = False)(essay_input)\n",
    "essay_lstm=LSTM(25)(essay_embed)\n",
    "flatten = Flatten(data_format='channels_last',name='flatten')(essay_lstm)\n",
    "\n",
    "#other inputs\n",
    "input_others = Input(shape=(101,1))\n",
    "conv = Conv1D(64, 3,data_format=\"channels_last\",padding=\"same\")(input_others)\n",
    "conv_1 = Conv1D(64, 3,data_format=\"channels_last\",padding=\"same\")(conv)\n",
    "flatten_1 = Flatten(data_format='channels_last',name='flatten_1')(conv_1)\n",
    "\n",
    "#concatenate\n",
    "conc = Concatenate(axis=1)([flatten,flatten_1])\n",
    "\n",
    "#dense1\n",
    "FC1 = Dense(512,activation='relu',kernel_initializer='he_normal')(conc)\n",
    "\n",
    "#dropout1\n",
    "drop = Dropout(0.35)(FC1)\n",
    "\n",
    "#Dense2\n",
    "FC2 = Dense(256,activation='relu',kernel_initializer='he_normal')(drop)\n",
    "\n",
    "#Dropout2\n",
    "drop_1 = Dropout(0.3)(FC2)\n",
    "\n",
    "#Dense3\n",
    "FC3 = Dense(32,activation='relu',kernel_initializer='he_normal')(drop_1)\n",
    "\n",
    "#output\n",
    "output = Dense(1,activation='sigmoid',kernel_initializer='glorot_normal')(FC3)"
   ]
  },
  {
   "cell_type": "code",
   "execution_count": null,
   "metadata": {
    "colab": {
     "base_uri": "https://localhost:8080/"
    },
    "executionInfo": {
     "elapsed": 11,
     "status": "ok",
     "timestamp": 1630987659055,
     "user": {
      "displayName": "Salman Sirumavilla",
      "photoUrl": "https://lh3.googleusercontent.com/a-/AOh14Gi0eIW6m0KUAHjPJMwwHdBSdC3UNQb_j8rzibSj=s64",
      "userId": "03152498435222547468"
     },
     "user_tz": -330
    },
    "id": "eD081TzXXH7m",
    "outputId": "6bae29d2-eb8d-4e6e-b317-0b71a85acdaf"
   },
   "outputs": [
    {
     "name": "stdout",
     "output_type": "stream",
     "text": [
      "Model: \"model_2\"\n",
      "__________________________________________________________________________________________________\n",
      "Layer (type)                    Output Shape         Param #     Connected to                     \n",
      "==================================================================================================\n",
      "input_5 (InputLayer)            [(None, 331)]        0                                            \n",
      "__________________________________________________________________________________________________\n",
      "input_6 (InputLayer)            [(None, 101, 1)]     0                                            \n",
      "__________________________________________________________________________________________________\n",
      "embedding_2 (Embedding)         (None, 331, 300)     13899300    input_5[0][0]                    \n",
      "__________________________________________________________________________________________________\n",
      "conv1d_4 (Conv1D)               (None, 101, 64)      256         input_6[0][0]                    \n",
      "__________________________________________________________________________________________________\n",
      "lstm_2 (LSTM)                   (None, 25)           32600       embedding_2[0][0]                \n",
      "__________________________________________________________________________________________________\n",
      "conv1d_5 (Conv1D)               (None, 101, 64)      12352       conv1d_4[0][0]                   \n",
      "__________________________________________________________________________________________________\n",
      "flatten (Flatten)               (None, 25)           0           lstm_2[0][0]                     \n",
      "__________________________________________________________________________________________________\n",
      "flatten_1 (Flatten)             (None, 6464)         0           conv1d_5[0][0]                   \n",
      "__________________________________________________________________________________________________\n",
      "concatenate_2 (Concatenate)     (None, 6489)         0           flatten[0][0]                    \n",
      "                                                                 flatten_1[0][0]                  \n",
      "__________________________________________________________________________________________________\n",
      "dense_8 (Dense)                 (None, 512)          3322880     concatenate_2[0][0]              \n",
      "__________________________________________________________________________________________________\n",
      "dropout_4 (Dropout)             (None, 512)          0           dense_8[0][0]                    \n",
      "__________________________________________________________________________________________________\n",
      "dense_9 (Dense)                 (None, 256)          131328      dropout_4[0][0]                  \n",
      "__________________________________________________________________________________________________\n",
      "dropout_5 (Dropout)             (None, 256)          0           dense_9[0][0]                    \n",
      "__________________________________________________________________________________________________\n",
      "dense_10 (Dense)                (None, 32)           8224        dropout_5[0][0]                  \n",
      "__________________________________________________________________________________________________\n",
      "dense_11 (Dense)                (None, 1)            33          dense_10[0][0]                   \n",
      "==================================================================================================\n",
      "Total params: 17,406,973\n",
      "Trainable params: 3,507,673\n",
      "Non-trainable params: 13,899,300\n",
      "__________________________________________________________________________________________________\n"
     ]
    }
   ],
   "source": [
    "model3 = Model(inputs=[essay_input,input_others],outputs=output)\n",
    "model3.summary()"
   ]
  },
  {
   "cell_type": "code",
   "execution_count": null,
   "metadata": {
    "id": "vv60s_4gXH7m"
   },
   "outputs": [],
   "source": [
    "model3.compile(optimizer=Adam(learning_rate=0.001),loss='binary_crossentropy',metrics=['accuracy',auc])"
   ]
  },
  {
   "cell_type": "code",
   "execution_count": null,
   "metadata": {
    "colab": {
     "base_uri": "https://localhost:8080/",
     "height": 1000
    },
    "executionInfo": {
     "elapsed": 1398,
     "status": "ok",
     "timestamp": 1630987662890,
     "user": {
      "displayName": "Salman Sirumavilla",
      "photoUrl": "https://lh3.googleusercontent.com/a-/AOh14Gi0eIW6m0KUAHjPJMwwHdBSdC3UNQb_j8rzibSj=s64",
      "userId": "03152498435222547468"
     },
     "user_tz": -330
    },
    "id": "LYfHQJIXbgbk",
    "outputId": "80e12d95-8847-42f0-c62d-666f6a53cbea"
   },
   "outputs": [
    {
     "data": {
      "image/png": "[encoded data removed]",
      "text/plain": [
       "<IPython.core.display.Image object>"
      ]
     },
     "execution_count": 96,
     "metadata": {},
     "output_type": "execute_result"
    }
   ],
   "source": [
    "from tensorflow.keras.utils import plot_model\n",
    "#https://machinelearningmastery.com/visualize-deep-learning-neural-network-model-keras/\n",
    "plot_model(model3, to_file='model3_plot.png', show_shapes=True, show_layer_names=True)"
   ]
  },
  {
   "cell_type": "code",
   "execution_count": null,
   "metadata": {
    "colab": {
     "base_uri": "https://localhost:8080/"
    },
    "executionInfo": {
     "elapsed": 406212,
     "status": "ok",
     "timestamp": 1630988072826,
     "user": {
      "displayName": "Salman Sirumavilla",
      "photoUrl": "https://lh3.googleusercontent.com/a-/AOh14Gi0eIW6m0KUAHjPJMwwHdBSdC3UNQb_j8rzibSj=s64",
      "userId": "03152498435222547468"
     },
     "user_tz": -330
    },
    "id": "GuQOYI7aXH7m",
    "outputId": "3e55a33e-05c2-47b4-d2e5-db171dc2c515"
   },
   "outputs": [
    {
     "name": "stdout",
     "output_type": "stream",
     "text": [
      "Epoch 1/20\n",
      "\n",
      "Epoch 00001: LearningRateScheduler setting learning rate to 0.0009000000427477062.\n",
      "520/520 [==============================] - 65s 65ms/step - loss: 0.4047 - accuracy: 0.8485 - auc: 0.6643 - val_loss: 0.3825 - val_accuracy: 0.8509 - val_auc: 0.7208\n",
      "\n",
      "Epoch 00001: val_auc improved from -inf to 0.72083, saving model to model3.hdf5\n",
      "Epoch 2/20\n",
      "\n",
      "Epoch 00002: LearningRateScheduler setting learning rate to 0.0009000000427477062.\n",
      "520/520 [==============================] - 30s 59ms/step - loss: 0.3761 - accuracy: 0.8519 - auc: 0.7374 - val_loss: 0.3704 - val_accuracy: 0.8549 - val_auc: 0.7433\n",
      "\n",
      "Epoch 00002: val_auc improved from 0.72083 to 0.74334, saving model to model3.hdf5\n",
      "Epoch 3/20\n",
      "\n",
      "Epoch 00003: LearningRateScheduler setting learning rate to 0.0009000000427477062.\n",
      "520/520 [==============================] - 32s 62ms/step - loss: 0.3661 - accuracy: 0.8548 - auc: 0.7589 - val_loss: 0.3672 - val_accuracy: 0.8510 - val_auc: 0.7546\n",
      "\n",
      "Epoch 00003: val_auc improved from 0.74334 to 0.75459, saving model to model3.hdf5\n",
      "Epoch 4/20\n",
      "\n",
      "Epoch 00004: LearningRateScheduler setting learning rate to 0.0009000000427477062.\n",
      "520/520 [==============================] - 32s 62ms/step - loss: 0.3592 - accuracy: 0.8570 - auc: 0.7711 - val_loss: 0.3662 - val_accuracy: 0.8559 - val_auc: 0.7546\n",
      "\n",
      "Epoch 00004: val_auc improved from 0.75459 to 0.75460, saving model to model3.hdf5\n",
      "Epoch 5/20\n",
      "\n",
      "Epoch 00005: LearningRateScheduler setting learning rate to 0.0009000000427477062.\n",
      "520/520 [==============================] - 32s 62ms/step - loss: 0.3518 - accuracy: 0.8604 - auc: 0.7840 - val_loss: 0.3681 - val_accuracy: 0.8557 - val_auc: 0.7535\n",
      "\n",
      "Epoch 00005: val_auc did not improve from 0.75460\n",
      "Epoch 6/20\n",
      "\n",
      "Epoch 00006: LearningRateScheduler setting learning rate to 0.0008100000384729355.\n",
      "520/520 [==============================] - 32s 62ms/step - loss: 0.3436 - accuracy: 0.8633 - auc: 0.7968 - val_loss: 0.3654 - val_accuracy: 0.8552 - val_auc: 0.7545\n",
      "\n",
      "Epoch 00006: val_auc did not improve from 0.75460\n",
      "Epoch 7/20\n",
      "\n",
      "Epoch 00007: LearningRateScheduler setting learning rate to 0.0008100000559352338.\n",
      "520/520 [==============================] - 32s 61ms/step - loss: 0.3377 - accuracy: 0.8653 - auc: 0.8052 - val_loss: 0.3715 - val_accuracy: 0.8565 - val_auc: 0.7523\n",
      "\n",
      "Epoch 00007: val_auc did not improve from 0.75460\n",
      "Epoch 8/20\n",
      "\n",
      "Epoch 00008: LearningRateScheduler setting learning rate to 0.0008100000559352338.\n",
      "520/520 [==============================] - 32s 62ms/step - loss: 0.3308 - accuracy: 0.8683 - auc: 0.8168 - val_loss: 0.3694 - val_accuracy: 0.8543 - val_auc: 0.7506\n",
      "\n",
      "Epoch 00008: val_auc did not improve from 0.75460\n",
      "Epoch 9/20\n",
      "\n",
      "Epoch 00009: LearningRateScheduler setting learning rate to 0.0008100000559352338.\n",
      "520/520 [==============================] - 30s 58ms/step - loss: 0.3245 - accuracy: 0.8710 - auc: 0.8244 - val_loss: 0.3719 - val_accuracy: 0.8547 - val_auc: 0.7456\n",
      "\n",
      "Epoch 00009: val_auc did not improve from 0.75460\n",
      "Epoch 10/20\n",
      "\n",
      "Epoch 00010: LearningRateScheduler setting learning rate to 0.0008100000559352338.\n",
      "520/520 [==============================] - 30s 57ms/step - loss: 0.3187 - accuracy: 0.8730 - auc: 0.8335 - val_loss: 0.3765 - val_accuracy: 0.8525 - val_auc: 0.7378\n",
      "\n",
      "Epoch 00010: val_auc did not improve from 0.75460\n",
      "Epoch 11/20\n",
      "\n",
      "Epoch 00011: LearningRateScheduler setting learning rate to 0.0007290000503417104.\n",
      "520/520 [==============================] - 32s 61ms/step - loss: 0.3092 - accuracy: 0.8771 - auc: 0.8438 - val_loss: 0.3869 - val_accuracy: 0.8515 - val_auc: 0.7373\n",
      "\n",
      "Epoch 00011: val_auc did not improve from 0.75460\n"
     ]
    },
    {
     "data": {
      "text/plain": [
       "<keras.callbacks.History at 0x7f70176ed6d0>"
      ]
     },
     "execution_count": 97,
     "metadata": {},
     "output_type": "execute_result"
    }
   ],
   "source": [
    "model3.fit([essay_padded_train, otherthan_text_data_train],y_train,validation_data=([essay_padded_cv, otherthan_text_data_cv],y_cv),batch_size=128,epochs=20,callbacks=[tensorboard_callback,model_callback,learning_rate_callback,early_callback])"
   ]
  },
  {
   "cell_type": "code",
   "execution_count": null,
   "metadata": {
    "id": "ND_ijqHQehes"
   },
   "outputs": [],
   "source": [
    "%load_ext tensorboard"
   ]
  },
  {
   "cell_type": "code",
   "execution_count": null,
   "metadata": {
    "colab": {
     "base_uri": "https://localhost:8080/"
    },
    "executionInfo": {
     "elapsed": 41891,
     "status": "error",
     "timestamp": 1630988291313,
     "user": {
      "displayName": "Salman Sirumavilla",
      "photoUrl": "https://lh3.googleusercontent.com/a-/AOh14Gi0eIW6m0KUAHjPJMwwHdBSdC3UNQb_j8rzibSj=s64",
      "userId": "03152498435222547468"
     },
     "user_tz": -330
    },
    "id": "G5Od_APcXH7m",
    "outputId": "0ba7986e-2bc8-48f4-cae3-299a7534c247",
    "scrolled": true
   },
   "outputs": [
    {
     "name": "stderr",
     "output_type": "stream",
     "text": [
      "UsageError: Line magic function `%tensorboard` not found.\n"
     ]
    }
   ],
   "source": [
    "%tensorboard --logdir logs3/fit/"
   ]
  },
  {
   "cell_type": "code",
   "execution_count": null,
   "metadata": {
    "id": "-TBNBUhxXH7m",
    "outputId": "35830433-2b51-4a64-bb85-4b2e4c250a5c"
   },
   "outputs": [
    {
     "data": {
      "text/plain": [
       "0.7534767093817758"
      ]
     },
     "execution_count": 170,
     "metadata": {},
     "output_type": "execute_result"
    }
   ],
   "source": [
    "y_test_pred = model3.predict([essay_padded_test, otherthan_text_data_test])\n",
    "test_fpr, test_tpr, thres = roc_curve(y_test, y_test_pred)\n",
    "auc(test_fpr, test_tpr)"
   ]
  },
  {
   "cell_type": "markdown",
   "metadata": {
    "id": "5vvKVsq3qnK3"
   },
   "source": [
    "**Compared to all other models, model3 performing well and even coverged faster, for the higher AUC values.**"
   ]
  }
 ],
 "metadata": {
  "accelerator": "GPU",
  "colab": {
   "collapsed_sections": [],
   "name": "LSTM - Assignment_model3.ipynb",
   "provenance": []
  },
  "kernelspec": {
   "display_name": "Python 3 (ipykernel)",
   "language": "python",
   "name": "python3"
  },
  "language_info": {
   "codemirror_mode": {
    "name": "ipython",
    "version": 3
   },
   "file_extension": ".py",
   "mimetype": "text/x-python",
   "name": "python",
   "nbconvert_exporter": "python",
   "pygments_lexer": "ipython3",
   "version": "3.8.0"
  }
 },
 "nbformat": 4,
 "nbformat_minor": 1
}
