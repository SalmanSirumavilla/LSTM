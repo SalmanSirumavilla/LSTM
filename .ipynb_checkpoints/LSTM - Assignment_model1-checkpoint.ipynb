{
 "cells": [
  {
   "cell_type": "markdown",
   "metadata": {
    "id": "dmLiuIU5aE9X"
   },
   "source": [
    "## Assignment : 14"
   ]
  },
  {
   "cell_type": "markdown",
   "metadata": {
    "id": "TZP3TFq-aE9b"
   },
   "source": [
    "<pre>\n",
    "1. Preprocess all the Data we have in DonorsChoose <a href='https://drive.google.com/drive/folders/1MIwK7BQMev8f5CbDDVNLPaFGB32pFN60'>Dataset</a> use train.csv\n",
    "2. Combine 4 essay's into one column named - 'preprocessed_essays'. \n",
    "3. After step 2 you have to train 3 types of models as discussed below. \n",
    "4. For all the model use <a href='https://scikit-learn.org/stable/modules/model_evaluation.html#roc-metrics'>'auc'</a> as a metric. check <a href='https://datascience.stackexchange.com/a/20192'>this</a> for using auc as a metric \n",
    "5. You are free to choose any number of layers/hiddden units but you have to use same type of architectures shown below. \n",
    "6. You can use any one of the optimizers and choice of Learning rate and momentum, resources: <a href='http://cs231n.github.io/neural-networks-3/'>cs231n class notes</a>, <a href='https://www.youtube.com/watch?v=hd_KFJ5ktUc'>cs231n class video</a>. \n",
    "7. For all the model's use <a href='https://www.youtube.com/watch?v=2U6Jl7oqRkM'>TensorBoard</a> and plot the Metric value and Loss with epoch. While submitting, take a screenshot of plots and include those images in .ipynb notebook and PDF. \n",
    "8. Use Categorical Cross Entropy as Loss to minimize.\n",
    "</pre>"
   ]
  },
  {
   "cell_type": "markdown",
   "metadata": {
    "id": "R-vJaPZgaE9c"
   },
   "source": [
    "### Model-1\n",
    "\n",
    "Build and Train deep neural network as shown below"
   ]
  },
  {
   "cell_type": "markdown",
   "metadata": {
    "id": "TsFJYxHyaE9d"
   },
   "source": [
    "<img src='https://i.imgur.com/w395Yk9.png'>\n",
    "ref: https://i.imgur.com/w395Yk9.png"
   ]
  },
  {
   "cell_type": "markdown",
   "metadata": {
    "id": "kGTwefKLaE9d"
   },
   "source": [
    "- __Input_seq_total_text_data__ --- You have to give Total text data columns. After this use the Embedding layer to get word vectors. Use given predefined glove word vectors, don't train any word vectors. After this use LSTM and get the LSTM output and Flatten that output. \n",
    "- __Input_school_state__ --- Give 'school_state' column as input to embedding layer and Train the Keras Embedding layer. \n",
    "- __Project_grade_category__  --- Give 'project_grade_category' column as input to embedding layer and Train the Keras Embedding layer.\n",
    "- __Input_clean_categories__ --- Give 'input_clean_categories' column as input to embedding layer and Train the Keras Embedding layer.\n",
    "- __Input_clean_subcategories__ --- Give 'input_clean_subcategories' column as input to embedding layer and Train the Keras Embedding layer.\n",
    "- __Input_clean_subcategories__ --- Give 'input_teacher_prefix' column as input to embedding layer and Train the Keras Embedding layer.\n",
    "- __Input_remaining_teacher_number_of_previously_posted_projects._resource_summary_contains_numerical_digits._price._quantity__ ---concatenate remaining columns and add a Dense layer after that. \n",
    "\n"
   ]
  },
  {
   "cell_type": "markdown",
   "metadata": {
    "id": "MAu6piX6aE9d"
   },
   "source": [
    "- For LSTM, you can choose your sequence padding methods on your own or you can train your LSTM without padding, there is no restriction on that."
   ]
  },
  {
   "cell_type": "markdown",
   "metadata": {
    "id": "pv8Y4a4naE9e"
   },
   "source": [
    "Below is an example of embedding layer for a categorical columns. In below code all are dummy values, we gave only for referance. "
   ]
  },
  {
   "cell_type": "code",
   "execution_count": null,
   "metadata": {
    "colab": {
     "base_uri": "https://localhost:8080/",
     "height": 212
    },
    "executionInfo": {
     "elapsed": 1963,
     "status": "error",
     "timestamp": 1630920036016,
     "user": {
      "displayName": "Salman Sirumavilla",
      "photoUrl": "https://lh3.googleusercontent.com/a-/AOh14Gi0eIW6m0KUAHjPJMwwHdBSdC3UNQb_j8rzibSj=s64",
      "userId": "03152498435222547468"
     },
     "user_tz": -330
    },
    "id": "96XyTlpTaE9e",
    "outputId": "43099814-6e4b-4d11-a54f-96b2fe93c771"
   },
   "outputs": [
    {
     "ename": "NameError",
     "evalue": "ignored",
     "output_type": "error",
     "traceback": [
      "\u001b[0;31m---------------------------------------------------------------------------\u001b[0m",
      "\u001b[0;31mNameError\u001b[0m                                 Traceback (most recent call last)",
      "\u001b[0;32m<ipython-input-1-ed7dba31d057>\u001b[0m in \u001b[0;36m<module>\u001b[0;34m()\u001b[0m\n\u001b[1;32m      1\u001b[0m \u001b[0;31m# https://stats.stackexchange.com/questions/270546/how-does-keras-embedding-layer-work\u001b[0m\u001b[0;34m\u001b[0m\u001b[0;34m\u001b[0m\u001b[0;34m\u001b[0m\u001b[0m\n\u001b[0;32m----> 2\u001b[0;31m \u001b[0minput_layer\u001b[0m \u001b[0;34m=\u001b[0m \u001b[0mInput\u001b[0m\u001b[0;34m(\u001b[0m\u001b[0mshape\u001b[0m\u001b[0;34m=\u001b[0m\u001b[0;34m(\u001b[0m\u001b[0mn\u001b[0m\u001b[0;34m,\u001b[0m\u001b[0;34m)\u001b[0m\u001b[0;34m)\u001b[0m\u001b[0;34m\u001b[0m\u001b[0;34m\u001b[0m\u001b[0m\n\u001b[0m\u001b[1;32m      3\u001b[0m \u001b[0membedding\u001b[0m \u001b[0;34m=\u001b[0m \u001b[0mEmbedding\u001b[0m\u001b[0;34m(\u001b[0m\u001b[0mno_1\u001b[0m\u001b[0;34m,\u001b[0m \u001b[0mno_2\u001b[0m\u001b[0;34m,\u001b[0m \u001b[0minput_length\u001b[0m\u001b[0;34m=\u001b[0m\u001b[0mn\u001b[0m\u001b[0;34m)\u001b[0m\u001b[0;34m(\u001b[0m\u001b[0minput_layer\u001b[0m\u001b[0;34m)\u001b[0m\u001b[0;34m\u001b[0m\u001b[0;34m\u001b[0m\u001b[0m\n\u001b[1;32m      4\u001b[0m \u001b[0mflatten\u001b[0m \u001b[0;34m=\u001b[0m \u001b[0mFlatten\u001b[0m\u001b[0;34m(\u001b[0m\u001b[0;34m)\u001b[0m\u001b[0;34m(\u001b[0m\u001b[0membedding\u001b[0m\u001b[0;34m)\u001b[0m\u001b[0;34m\u001b[0m\u001b[0;34m\u001b[0m\u001b[0m\n",
      "\u001b[0;31mNameError\u001b[0m: name 'Input' is not defined"
     ]
    }
   ],
   "source": [
    "# https://stats.stackexchange.com/questions/270546/how-does-keras-embedding-layer-work\n",
    "input_layer = Input(shape=(n,))\n",
    "embedding = Embedding(no_1, no_2, input_length=n)(input_layer)\n",
    "flatten = Flatten()(embedding)"
   ]
  },
  {
   "cell_type": "markdown",
   "metadata": {
    "id": "6xOK776maE9g"
   },
   "source": [
    "### 1. Go through this blog, if you have any doubt on using predefined Embedding values in Embedding layer - https://machinelearningmastery.com/use-word-embedding-layers-deep-learning-keras/\n",
    "### 2. Please go through this link https://keras.io/getting-started/functional-api-guide/ and check the 'Multi-input and multi-output models' then you will get to know how to give multiple inputs. "
   ]
  },
  {
   "cell_type": "code",
   "execution_count": null,
   "metadata": {
    "colab": {
     "base_uri": "https://localhost:8080/"
    },
    "executionInfo": {
     "elapsed": 28224,
     "status": "ok",
     "timestamp": 1630920688674,
     "user": {
      "displayName": "Salman Sirumavilla",
      "photoUrl": "https://lh3.googleusercontent.com/a-/AOh14Gi0eIW6m0KUAHjPJMwwHdBSdC3UNQb_j8rzibSj=s64",
      "userId": "03152498435222547468"
     },
     "user_tz": -330
    },
    "id": "Qn0UH2FAcGlC",
    "outputId": "413ab49a-8836-403b-b4d0-27a1d6bfd1d6"
   },
   "outputs": [
    {
     "name": "stdout",
     "output_type": "stream",
     "text": [
      "Mounted at /content/drive\n"
     ]
    }
   ],
   "source": [
    "from google.colab import drive\n",
    "drive.mount('/content/drive')"
   ]
  },
  {
   "cell_type": "code",
   "execution_count": null,
   "metadata": {
    "id": "-q5PDzl1aE9g"
   },
   "outputs": [],
   "source": [
    "import numpy as np\n",
    "import pandas as pd"
   ]
  },
  {
   "cell_type": "code",
   "execution_count": null,
   "metadata": {
    "id": "-3R8voXVaE9h"
   },
   "outputs": [],
   "source": [
    "import tensorflow as tf\n",
    "from tensorflow import keras\n",
    "from tensorflow.keras import layers"
   ]
  },
  {
   "cell_type": "code",
   "execution_count": null,
   "metadata": {
    "id": "9WcmC1jNaE9h"
   },
   "outputs": [],
   "source": [
    "processed_data=pd.read_csv('/content/drive/MyDrive/Applied ai/for_colab/preprocessed_data.csv')"
   ]
  },
  {
   "cell_type": "code",
   "execution_count": null,
   "metadata": {
    "colab": {
     "base_uri": "https://localhost:8080/",
     "height": 643
    },
    "executionInfo": {
     "elapsed": 970,
     "status": "ok",
     "timestamp": 1630920867990,
     "user": {
      "displayName": "Salman Sirumavilla",
      "photoUrl": "https://lh3.googleusercontent.com/a-/AOh14Gi0eIW6m0KUAHjPJMwwHdBSdC3UNQb_j8rzibSj=s64",
      "userId": "03152498435222547468"
     },
     "user_tz": -330
    },
    "id": "QmtqFro3aE9h",
    "outputId": "d517c22f-ada4-44c9-b879-849e7a2574c0"
   },
   "outputs": [
    {
     "data": {
      "text/html": [
       "<div>\n",
       "<style scoped>\n",
       "    .dataframe tbody tr th:only-of-type {\n",
       "        vertical-align: middle;\n",
       "    }\n",
       "\n",
       "    .dataframe tbody tr th {\n",
       "        vertical-align: top;\n",
       "    }\n",
       "\n",
       "    .dataframe thead th {\n",
       "        text-align: right;\n",
       "    }\n",
       "</style>\n",
       "<table border=\"1\" class=\"dataframe\">\n",
       "  <thead>\n",
       "    <tr style=\"text-align: right;\">\n",
       "      <th></th>\n",
       "      <th>school_state</th>\n",
       "      <th>teacher_prefix</th>\n",
       "      <th>project_grade_category</th>\n",
       "      <th>teacher_number_of_previously_posted_projects</th>\n",
       "      <th>project_is_approved</th>\n",
       "      <th>clean_categories</th>\n",
       "      <th>clean_subcategories</th>\n",
       "      <th>essay</th>\n",
       "      <th>price</th>\n",
       "    </tr>\n",
       "  </thead>\n",
       "  <tbody>\n",
       "    <tr>\n",
       "      <th>0</th>\n",
       "      <td>ca</td>\n",
       "      <td>mrs</td>\n",
       "      <td>grades_prek_2</td>\n",
       "      <td>53</td>\n",
       "      <td>1</td>\n",
       "      <td>math_science</td>\n",
       "      <td>appliedsciences health_lifescience</td>\n",
       "      <td>i fortunate enough use fairy tale stem kits cl...</td>\n",
       "      <td>725.05</td>\n",
       "    </tr>\n",
       "    <tr>\n",
       "      <th>1</th>\n",
       "      <td>ut</td>\n",
       "      <td>ms</td>\n",
       "      <td>grades_3_5</td>\n",
       "      <td>4</td>\n",
       "      <td>1</td>\n",
       "      <td>specialneeds</td>\n",
       "      <td>specialneeds</td>\n",
       "      <td>imagine 8 9 years old you third grade classroo...</td>\n",
       "      <td>213.03</td>\n",
       "    </tr>\n",
       "    <tr>\n",
       "      <th>2</th>\n",
       "      <td>ca</td>\n",
       "      <td>mrs</td>\n",
       "      <td>grades_prek_2</td>\n",
       "      <td>10</td>\n",
       "      <td>1</td>\n",
       "      <td>literacy_language</td>\n",
       "      <td>literacy</td>\n",
       "      <td>having class 24 students comes diverse learner...</td>\n",
       "      <td>329.00</td>\n",
       "    </tr>\n",
       "    <tr>\n",
       "      <th>3</th>\n",
       "      <td>ga</td>\n",
       "      <td>mrs</td>\n",
       "      <td>grades_prek_2</td>\n",
       "      <td>2</td>\n",
       "      <td>1</td>\n",
       "      <td>appliedlearning</td>\n",
       "      <td>earlydevelopment</td>\n",
       "      <td>i recently read article giving students choice...</td>\n",
       "      <td>481.04</td>\n",
       "    </tr>\n",
       "    <tr>\n",
       "      <th>4</th>\n",
       "      <td>wa</td>\n",
       "      <td>mrs</td>\n",
       "      <td>grades_3_5</td>\n",
       "      <td>2</td>\n",
       "      <td>1</td>\n",
       "      <td>literacy_language</td>\n",
       "      <td>literacy</td>\n",
       "      <td>my students crave challenge eat obstacles brea...</td>\n",
       "      <td>17.74</td>\n",
       "    </tr>\n",
       "  </tbody>\n",
       "</table>\n",
       "</div>"
      ],
      "text/plain": [
       "  school_state  ...   price\n",
       "0           ca  ...  725.05\n",
       "1           ut  ...  213.03\n",
       "2           ca  ...  329.00\n",
       "3           ga  ...  481.04\n",
       "4           wa  ...   17.74\n",
       "\n",
       "[5 rows x 9 columns]"
      ]
     },
     "execution_count": 8,
     "metadata": {},
     "output_type": "execute_result"
    }
   ],
   "source": [
    "processed_data.head()"
   ]
  },
  {
   "cell_type": "code",
   "execution_count": null,
   "metadata": {
    "colab": {
     "base_uri": "https://localhost:8080/"
    },
    "executionInfo": {
     "elapsed": 653,
     "status": "ok",
     "timestamp": 1630920872567,
     "user": {
      "displayName": "Salman Sirumavilla",
      "photoUrl": "https://lh3.googleusercontent.com/a-/AOh14Gi0eIW6m0KUAHjPJMwwHdBSdC3UNQb_j8rzibSj=s64",
      "userId": "03152498435222547468"
     },
     "user_tz": -330
    },
    "id": "4OH8jDs6aE9i",
    "outputId": "a076dbc2-cd4e-4bfb-90de-040a04599c1f"
   },
   "outputs": [
    {
     "data": {
      "text/plain": [
       "(109248, 9)"
      ]
     },
     "execution_count": 9,
     "metadata": {},
     "output_type": "execute_result"
    }
   ],
   "source": [
    "processed_data.shape"
   ]
  },
  {
   "cell_type": "code",
   "execution_count": null,
   "metadata": {
    "id": "dDzeZasoaE9i"
   },
   "outputs": [],
   "source": [
    "y = processed_data['project_is_approved']\n",
    "X = processed_data.drop(['project_is_approved'],axis=1)"
   ]
  },
  {
   "cell_type": "code",
   "execution_count": null,
   "metadata": {
    "colab": {
     "base_uri": "https://localhost:8080/"
    },
    "executionInfo": {
     "elapsed": 4,
     "status": "ok",
     "timestamp": 1630920873170,
     "user": {
      "displayName": "Salman Sirumavilla",
      "photoUrl": "https://lh3.googleusercontent.com/a-/AOh14Gi0eIW6m0KUAHjPJMwwHdBSdC3UNQb_j8rzibSj=s64",
      "userId": "03152498435222547468"
     },
     "user_tz": -330
    },
    "id": "ajuCEO4AaE9i",
    "outputId": "892d030c-b821-4294-95c7-71d4d3945b25"
   },
   "outputs": [
    {
     "name": "stdout",
     "output_type": "stream",
     "text": [
      "(109248, 8) (109248,)\n"
     ]
    }
   ],
   "source": [
    "print(X.shape, y.shape)"
   ]
  },
  {
   "cell_type": "code",
   "execution_count": null,
   "metadata": {
    "id": "mjA5XSAOaE9i"
   },
   "outputs": [],
   "source": [
    "from sklearn.model_selection import train_test_split\n",
    "X_train, X_test, y_train, y_test = train_test_split(X, y, test_size=0.22, stratify=y)\n",
    "X_train, X_cv, y_train, y_cv = train_test_split(X_train, y_train, test_size=0.22, stratify=y_train)"
   ]
  },
  {
   "cell_type": "code",
   "execution_count": null,
   "metadata": {
    "colab": {
     "base_uri": "https://localhost:8080/"
    },
    "executionInfo": {
     "elapsed": 6,
     "status": "ok",
     "timestamp": 1630920875008,
     "user": {
      "displayName": "Salman Sirumavilla",
      "photoUrl": "https://lh3.googleusercontent.com/a-/AOh14Gi0eIW6m0KUAHjPJMwwHdBSdC3UNQb_j8rzibSj=s64",
      "userId": "03152498435222547468"
     },
     "user_tz": -330
    },
    "id": "qv-xSgLUaE9j",
    "outputId": "1be9d4f2-c79f-4a3a-f9be-7f0e42beefdc"
   },
   "outputs": [
    {
     "name": "stdout",
     "output_type": "stream",
     "text": [
      "(66466, 8) (24035, 8) (18747, 8)\n"
     ]
    }
   ],
   "source": [
    "print(X_train.shape, X_test.shape, X_cv.shape)"
   ]
  },
  {
   "cell_type": "code",
   "execution_count": null,
   "metadata": {
    "colab": {
     "base_uri": "https://localhost:8080/",
     "height": 397
    },
    "executionInfo": {
     "elapsed": 5,
     "status": "ok",
     "timestamp": 1630920875623,
     "user": {
      "displayName": "Salman Sirumavilla",
      "photoUrl": "https://lh3.googleusercontent.com/a-/AOh14Gi0eIW6m0KUAHjPJMwwHdBSdC3UNQb_j8rzibSj=s64",
      "userId": "03152498435222547468"
     },
     "user_tz": -330
    },
    "id": "VhjpuU-TaE9j",
    "outputId": "90fc58f0-ddbc-489c-f779-d31f9b56af6b"
   },
   "outputs": [
    {
     "data": {
      "text/html": [
       "<div>\n",
       "<style scoped>\n",
       "    .dataframe tbody tr th:only-of-type {\n",
       "        vertical-align: middle;\n",
       "    }\n",
       "\n",
       "    .dataframe tbody tr th {\n",
       "        vertical-align: top;\n",
       "    }\n",
       "\n",
       "    .dataframe thead th {\n",
       "        text-align: right;\n",
       "    }\n",
       "</style>\n",
       "<table border=\"1\" class=\"dataframe\">\n",
       "  <thead>\n",
       "    <tr style=\"text-align: right;\">\n",
       "      <th></th>\n",
       "      <th>school_state</th>\n",
       "      <th>teacher_prefix</th>\n",
       "      <th>project_grade_category</th>\n",
       "      <th>teacher_number_of_previously_posted_projects</th>\n",
       "      <th>clean_categories</th>\n",
       "      <th>clean_subcategories</th>\n",
       "      <th>essay</th>\n",
       "      <th>price</th>\n",
       "    </tr>\n",
       "  </thead>\n",
       "  <tbody>\n",
       "    <tr>\n",
       "      <th>42206</th>\n",
       "      <td>me</td>\n",
       "      <td>mrs</td>\n",
       "      <td>grades_prek_2</td>\n",
       "      <td>1</td>\n",
       "      <td>music_arts</td>\n",
       "      <td>music</td>\n",
       "      <td>my students love sing move play instruments be...</td>\n",
       "      <td>138.44</td>\n",
       "    </tr>\n",
       "    <tr>\n",
       "      <th>25129</th>\n",
       "      <td>nv</td>\n",
       "      <td>teacher</td>\n",
       "      <td>grades_prek_2</td>\n",
       "      <td>0</td>\n",
       "      <td>health_sports</td>\n",
       "      <td>health_wellness</td>\n",
       "      <td>this year i going teaching first grade class 2...</td>\n",
       "      <td>107.06</td>\n",
       "    </tr>\n",
       "    <tr>\n",
       "      <th>78668</th>\n",
       "      <td>oh</td>\n",
       "      <td>mrs</td>\n",
       "      <td>grades_prek_2</td>\n",
       "      <td>1</td>\n",
       "      <td>literacy_language</td>\n",
       "      <td>literacy literature_writing</td>\n",
       "      <td>the students classroom come many different bac...</td>\n",
       "      <td>182.48</td>\n",
       "    </tr>\n",
       "  </tbody>\n",
       "</table>\n",
       "</div>"
      ],
      "text/plain": [
       "      school_state  ...   price\n",
       "42206           me  ...  138.44\n",
       "25129           nv  ...  107.06\n",
       "78668           oh  ...  182.48\n",
       "\n",
       "[3 rows x 8 columns]"
      ]
     },
     "execution_count": 14,
     "metadata": {},
     "output_type": "execute_result"
    }
   ],
   "source": [
    "X_train.head(3)"
   ]
  },
  {
   "cell_type": "markdown",
   "metadata": {
    "id": "F1wY5DBgaE9j"
   },
   "source": [
    "## Essay encoding:"
   ]
  },
  {
   "cell_type": "code",
   "execution_count": null,
   "metadata": {
    "id": "hvBD5qkbaE9j"
   },
   "outputs": [],
   "source": [
    "essay_encode_train=X_train['essay'].tolist()\n",
    "essay_encode_test=X_test['essay'].tolist()\n",
    "essay_encode_cv=X_cv['essay'].tolist()"
   ]
  },
  {
   "cell_type": "code",
   "execution_count": null,
   "metadata": {
    "colab": {
     "base_uri": "https://localhost:8080/"
    },
    "executionInfo": {
     "elapsed": 663,
     "status": "ok",
     "timestamp": 1630920881502,
     "user": {
      "displayName": "Salman Sirumavilla",
      "photoUrl": "https://lh3.googleusercontent.com/a-/AOh14Gi0eIW6m0KUAHjPJMwwHdBSdC3UNQb_j8rzibSj=s64",
      "userId": "03152498435222547468"
     },
     "user_tz": -330
    },
    "id": "X2mxlAwpaE9j",
    "outputId": "85667d3a-9162-4902-c7f6-34976679f4ab"
   },
   "outputs": [
    {
     "data": {
      "text/plain": [
       "18747"
      ]
     },
     "execution_count": 16,
     "metadata": {},
     "output_type": "execute_result"
    }
   ],
   "source": [
    "len(essay_encode_cv)"
   ]
  },
  {
   "cell_type": "code",
   "execution_count": null,
   "metadata": {
    "id": "44O_QcfzaE9k"
   },
   "outputs": [],
   "source": [
    "token=tf.keras.preprocessing.text.Tokenizer()"
   ]
  },
  {
   "cell_type": "code",
   "execution_count": null,
   "metadata": {
    "id": "zK9rrtrOaE9k"
   },
   "outputs": [],
   "source": [
    "token.fit_on_texts(essay_encode_train)"
   ]
  },
  {
   "cell_type": "code",
   "execution_count": null,
   "metadata": {
    "colab": {
     "base_uri": "https://localhost:8080/"
    },
    "executionInfo": {
     "elapsed": 583,
     "status": "ok",
     "timestamp": 1630920917817,
     "user": {
      "displayName": "Salman Sirumavilla",
      "photoUrl": "https://lh3.googleusercontent.com/a-/AOh14Gi0eIW6m0KUAHjPJMwwHdBSdC3UNQb_j8rzibSj=s64",
      "userId": "03152498435222547468"
     },
     "user_tz": -330
    },
    "id": "usY40WpLaE9l",
    "outputId": "7e7c9343-71f6-433e-9e98-5453848174f9"
   },
   "outputs": [
    {
     "data": {
      "text/plain": [
       "dict"
      ]
     },
     "execution_count": 20,
     "metadata": {},
     "output_type": "execute_result"
    }
   ],
   "source": [
    "type(token.word_index)"
   ]
  },
  {
   "cell_type": "code",
   "execution_count": null,
   "metadata": {
    "id": "-y31D9V5aE9l"
   },
   "outputs": [],
   "source": [
    "encoded_essay_train=token.texts_to_sequences(essay_encode_train)\n",
    "encoded_essay_test=token.texts_to_sequences(essay_encode_test)\n",
    "encoded_essay_cv=token.texts_to_sequences(essay_encode_cv)"
   ]
  },
  {
   "cell_type": "code",
   "execution_count": null,
   "metadata": {
    "id": "7K_1HQziaE9m"
   },
   "outputs": [],
   "source": [
    "vocab_size=len(token.word_index)+1"
   ]
  },
  {
   "cell_type": "code",
   "execution_count": null,
   "metadata": {
    "colab": {
     "base_uri": "https://localhost:8080/"
    },
    "executionInfo": {
     "elapsed": 11,
     "status": "ok",
     "timestamp": 1630920933324,
     "user": {
      "displayName": "Salman Sirumavilla",
      "photoUrl": "https://lh3.googleusercontent.com/a-/AOh14Gi0eIW6m0KUAHjPJMwwHdBSdC3UNQb_j8rzibSj=s64",
      "userId": "03152498435222547468"
     },
     "user_tz": -330
    },
    "id": "yERLD41AaE9m",
    "outputId": "6958f61e-6336-4ef2-d926-da25acb1f42c"
   },
   "outputs": [
    {
     "data": {
      "text/plain": [
       "46325"
      ]
     },
     "execution_count": 23,
     "metadata": {},
     "output_type": "execute_result"
    }
   ],
   "source": [
    "vocab_size"
   ]
  },
  {
   "cell_type": "code",
   "execution_count": null,
   "metadata": {
    "colab": {
     "base_uri": "https://localhost:8080/"
    },
    "executionInfo": {
     "elapsed": 8,
     "status": "ok",
     "timestamp": 1630920933324,
     "user": {
      "displayName": "Salman Sirumavilla",
      "photoUrl": "https://lh3.googleusercontent.com/a-/AOh14Gi0eIW6m0KUAHjPJMwwHdBSdC3UNQb_j8rzibSj=s64",
      "userId": "03152498435222547468"
     },
     "user_tz": -330
    },
    "id": "ke5WdlRfaE9m",
    "outputId": "b12f4240-8140-4cfe-883e-7f17e368910f"
   },
   "outputs": [
    {
     "data": {
      "text/plain": [
       "(46324, 46324)"
      ]
     },
     "execution_count": 24,
     "metadata": {},
     "output_type": "execute_result"
    }
   ],
   "source": [
    "len(token.index_word), len(token.word_index)"
   ]
  },
  {
   "cell_type": "code",
   "execution_count": null,
   "metadata": {
    "id": "D_WtdQbBaE9m"
   },
   "outputs": [],
   "source": [
    "glove_mat=np.zeros((vocab_size, 300))"
   ]
  },
  {
   "cell_type": "code",
   "execution_count": null,
   "metadata": {
    "colab": {
     "base_uri": "https://localhost:8080/"
    },
    "executionInfo": {
     "elapsed": 815,
     "status": "ok",
     "timestamp": 1630921014038,
     "user": {
      "displayName": "Salman Sirumavilla",
      "photoUrl": "https://lh3.googleusercontent.com/a-/AOh14Gi0eIW6m0KUAHjPJMwwHdBSdC3UNQb_j8rzibSj=s64",
      "userId": "03152498435222547468"
     },
     "user_tz": -330
    },
    "id": "VVzjr8w-aE9m",
    "outputId": "e4ddc86d-1a78-42e3-fb1c-1f919714e7ac"
   },
   "outputs": [
    {
     "data": {
      "text/plain": [
       "array([[0., 0., 0., ..., 0., 0., 0.],\n",
       "       [0., 0., 0., ..., 0., 0., 0.],\n",
       "       [0., 0., 0., ..., 0., 0., 0.],\n",
       "       ...,\n",
       "       [0., 0., 0., ..., 0., 0., 0.],\n",
       "       [0., 0., 0., ..., 0., 0., 0.],\n",
       "       [0., 0., 0., ..., 0., 0., 0.]])"
      ]
     },
     "execution_count": 26,
     "metadata": {},
     "output_type": "execute_result"
    }
   ],
   "source": [
    "glove_mat"
   ]
  },
  {
   "cell_type": "code",
   "execution_count": null,
   "metadata": {
    "colab": {
     "base_uri": "https://localhost:8080/"
    },
    "executionInfo": {
     "elapsed": 4,
     "status": "ok",
     "timestamp": 1630921014622,
     "user": {
      "displayName": "Salman Sirumavilla",
      "photoUrl": "https://lh3.googleusercontent.com/a-/AOh14Gi0eIW6m0KUAHjPJMwwHdBSdC3UNQb_j8rzibSj=s64",
      "userId": "03152498435222547468"
     },
     "user_tz": -330
    },
    "id": "2ShlLVGwaE9m",
    "outputId": "2cb2b654-d37b-4fd1-836c-0204550a5d7f"
   },
   "outputs": [
    {
     "data": {
      "text/plain": [
       "(46325, 300)"
      ]
     },
     "execution_count": 27,
     "metadata": {},
     "output_type": "execute_result"
    }
   ],
   "source": [
    "glove_mat.shape"
   ]
  },
  {
   "cell_type": "code",
   "execution_count": null,
   "metadata": {
    "colab": {
     "base_uri": "https://localhost:8080/"
    },
    "executionInfo": {
     "elapsed": 626,
     "status": "ok",
     "timestamp": 1630921025264,
     "user": {
      "displayName": "Salman Sirumavilla",
      "photoUrl": "https://lh3.googleusercontent.com/a-/AOh14Gi0eIW6m0KUAHjPJMwwHdBSdC3UNQb_j8rzibSj=s64",
      "userId": "03152498435222547468"
     },
     "user_tz": -330
    },
    "id": "3RBljM46aE9n",
    "outputId": "0a045a39-8eac-4026-c9cd-2ca65bfd181e"
   },
   "outputs": [
    {
     "data": {
      "text/plain": [
       "66466"
      ]
     },
     "execution_count": 28,
     "metadata": {},
     "output_type": "execute_result"
    }
   ],
   "source": [
    "len(encoded_essay_train)"
   ]
  },
  {
   "cell_type": "code",
   "execution_count": null,
   "metadata": {
    "colab": {
     "base_uri": "https://localhost:8080/"
    },
    "executionInfo": {
     "elapsed": 732,
     "status": "ok",
     "timestamp": 1630921036535,
     "user": {
      "displayName": "Salman Sirumavilla",
      "photoUrl": "https://lh3.googleusercontent.com/a-/AOh14Gi0eIW6m0KUAHjPJMwwHdBSdC3UNQb_j8rzibSj=s64",
      "userId": "03152498435222547468"
     },
     "user_tz": -330
    },
    "id": "tilJjtf4aE9n",
    "outputId": "34f07424-1170-46f1-a034-0b5672fd0ccf"
   },
   "outputs": [
    {
     "data": {
      "text/plain": [
       "(109248, 109248)"
      ]
     },
     "execution_count": 29,
     "metadata": {},
     "output_type": "execute_result"
    }
   ],
   "source": [
    "len(X['essay']), len(X['essay'].tolist())"
   ]
  },
  {
   "cell_type": "code",
   "execution_count": null,
   "metadata": {
    "colab": {
     "base_uri": "https://localhost:8080/"
    },
    "executionInfo": {
     "elapsed": 7,
     "status": "ok",
     "timestamp": 1630921048500,
     "user": {
      "displayName": "Salman Sirumavilla",
      "photoUrl": "https://lh3.googleusercontent.com/a-/AOh14Gi0eIW6m0KUAHjPJMwwHdBSdC3UNQb_j8rzibSj=s64",
      "userId": "03152498435222547468"
     },
     "user_tz": -330
    },
    "id": "TNmHMbQsaE9n",
    "outputId": "13e46965-9b71-42f1-f38b-be7360bf23aa"
   },
   "outputs": [
    {
     "data": {
      "text/plain": [
       "(126, 158)"
      ]
     },
     "execution_count": 30,
     "metadata": {},
     "output_type": "execute_result"
    }
   ],
   "source": [
    "len(encoded_essay_train[5]), len(encoded_essay_train[100])"
   ]
  },
  {
   "cell_type": "code",
   "execution_count": null,
   "metadata": {
    "colab": {
     "base_uri": "https://localhost:8080/"
    },
    "executionInfo": {
     "elapsed": 563,
     "status": "ok",
     "timestamp": 1630921056419,
     "user": {
      "displayName": "Salman Sirumavilla",
      "photoUrl": "https://lh3.googleusercontent.com/a-/AOh14Gi0eIW6m0KUAHjPJMwwHdBSdC3UNQb_j8rzibSj=s64",
      "userId": "03152498435222547468"
     },
     "user_tz": -330
    },
    "id": "LydrGD7kaE9n",
    "outputId": "b7e03e6d-123b-4679-f276-a1ceb2b9e5f7"
   },
   "outputs": [
    {
     "name": "stdout",
     "output_type": "stream",
     "text": [
      "333\n"
     ]
    }
   ],
   "source": [
    "mx_len=0\n",
    "for ele in encoded_essay_train:\n",
    "    if len(ele)>mx_len:\n",
    "        mx_len=len(ele)\n",
    "print(mx_len)\n"
   ]
  },
  {
   "cell_type": "code",
   "execution_count": null,
   "metadata": {
    "id": "hiQie2eFaE9o"
   },
   "outputs": [],
   "source": [
    "from tensorflow.keras.preprocessing.sequence import pad_sequences\n",
    "essay_padded_train=pad_sequences(encoded_essay_train, maxlen=mx_len, padding='pre')\n",
    "essay_padded_test=pad_sequences(encoded_essay_test, maxlen=mx_len, padding='pre')\n",
    "essay_padded_cv=pad_sequences(encoded_essay_cv, maxlen=mx_len, padding='pre')"
   ]
  },
  {
   "cell_type": "code",
   "execution_count": null,
   "metadata": {
    "colab": {
     "base_uri": "https://localhost:8080/"
    },
    "executionInfo": {
     "elapsed": 10,
     "status": "ok",
     "timestamp": 1630921063526,
     "user": {
      "displayName": "Salman Sirumavilla",
      "photoUrl": "https://lh3.googleusercontent.com/a-/AOh14Gi0eIW6m0KUAHjPJMwwHdBSdC3UNQb_j8rzibSj=s64",
      "userId": "03152498435222547468"
     },
     "user_tz": -330
    },
    "id": "z2V29iD8aE9o",
    "outputId": "0f8998b6-0c8a-4dff-adf9-4b1cae3675e9"
   },
   "outputs": [
    {
     "data": {
      "text/plain": [
       "(66466, 24035, 18747)"
      ]
     },
     "execution_count": 33,
     "metadata": {},
     "output_type": "execute_result"
    }
   ],
   "source": [
    "len(essay_padded_train), len(essay_padded_test), len(essay_padded_cv)"
   ]
  },
  {
   "cell_type": "code",
   "execution_count": null,
   "metadata": {
    "colab": {
     "base_uri": "https://localhost:8080/"
    },
    "executionInfo": {
     "elapsed": 766,
     "status": "ok",
     "timestamp": 1630921072428,
     "user": {
      "displayName": "Salman Sirumavilla",
      "photoUrl": "https://lh3.googleusercontent.com/a-/AOh14Gi0eIW6m0KUAHjPJMwwHdBSdC3UNQb_j8rzibSj=s64",
      "userId": "03152498435222547468"
     },
     "user_tz": -330
    },
    "id": "2Q-eg2xhaE9o",
    "outputId": "d49506be-d6ef-4f42-e1de-3a83474ae931"
   },
   "outputs": [
    {
     "data": {
      "text/plain": [
       "array([[    0,     0,     0,     0,     0,     0,     0,     0,     0,\n",
       "            0,     0,     0,     0,     0,     0,     0,     0,     0,\n",
       "            0,     0,     0,     0,     0,     0,     0,     0,     0,\n",
       "            0,     0,     0,     0,     0,     0,     0,     0,     0,\n",
       "            0,     0,     0,     0,     0,     0,     0,     0,     0,\n",
       "            0,     0,     0,     0,     0,     0,     0,     0,     0,\n",
       "            0,     0,     0,     0,     0,     0,     0,     0,     0,\n",
       "            0,     0,     0,     0,     0,     0,     0,     0,     0,\n",
       "            0,     0,     0,     0,     0,     0,     0,     0,     0,\n",
       "            0,     0,     0,     0,     0,     0,     0,     0,     0,\n",
       "            0,     0,     0,     0,     0,     0,     0,     0,     0,\n",
       "            0,     0,     0,     0,     0,     0,     0,     0,     0,\n",
       "            0,     0,     0,     0,     0,     0,     0,     0,     0,\n",
       "            0,     0,     0,     0,     0,     0,     0,     0,     0,\n",
       "            0,     0,     0,     0,     0,     0,     0,     0,     0,\n",
       "            0,     0,     0,     0,     0,     0,     0,     0,     0,\n",
       "            0,     0,     0,     0,     0,     0,     0,     0,     0,\n",
       "            0,     4,     1,    19,  1483,   115,   116,   618,   694,\n",
       "          119,    72,   153,   170,    20,   708,    20,    31,    75,\n",
       "           56,   154,   862,  3912,    12,     1,   184,   649,   153,\n",
       "         1431,   618,  4266,    10,    14,   105,   231,     1,     3,\n",
       "           12,    31,     1,  4926,    96,     3,   432,   309,    12,\n",
       "            1,     8,     5,    92,    74,    35,    28,   333,     6,\n",
       "          168,    74,    35,     2,   360,    33,     6,   168,    98,\n",
       "          219,  3433,   144,   268,   414,   618,     8, 13262,  1160,\n",
       "            2,   137,    87,   713,   168,   257,   427,   618,   222,\n",
       "            5,   168,     6,     7,   465,  2185,  2516,   185,   412,\n",
       "          351,   312,  2750,    57,    18,   618,   317,  1261,    85,\n",
       "            1,    88,   990,    22,   168,    23,   432,  1013,   268,\n",
       "          414,   618,  1577,  2185,    11,    96,   184,  2544,  2409,\n",
       "         5600,   168,    11,    96,    56,   890,  2226,   890,  3850,\n",
       "        10358,   456,    17,    14,  1228,  1913,     1,   816,   167,\n",
       "          901,   160,  4785,   492,  1428,  2443,     1,   512,   882,\n",
       "           10,   193,   224,   859,   618,    29,   419,    31,   465,\n",
       "         2185,  1331,   182,  1146,   618,   372,  1717,   214,   777,\n",
       "          495,   961,   738,   618,   209,     1,    34,    10,   116,\n",
       "         2185,   756,   164,     2,   296,    33,   991,     6,    13]],\n",
       "      dtype=int32)"
      ]
     },
     "execution_count": 34,
     "metadata": {},
     "output_type": "execute_result"
    }
   ],
   "source": [
    "essay_padded_train[:1]"
   ]
  },
  {
   "cell_type": "code",
   "execution_count": null,
   "metadata": {
    "colab": {
     "base_uri": "https://localhost:8080/"
    },
    "executionInfo": {
     "elapsed": 621,
     "status": "ok",
     "timestamp": 1630921087809,
     "user": {
      "displayName": "Salman Sirumavilla",
      "photoUrl": "https://lh3.googleusercontent.com/a-/AOh14Gi0eIW6m0KUAHjPJMwwHdBSdC3UNQb_j8rzibSj=s64",
      "userId": "03152498435222547468"
     },
     "user_tz": -330
    },
    "id": "bibue5D6aE9o",
    "outputId": "81bb0210-ff39-4c95-f195-1bf168c35582"
   },
   "outputs": [
    {
     "data": {
      "text/plain": [
       "333"
      ]
     },
     "execution_count": 35,
     "metadata": {},
     "output_type": "execute_result"
    }
   ],
   "source": [
    "len(essay_padded_train[5])"
   ]
  },
  {
   "cell_type": "code",
   "execution_count": null,
   "metadata": {
    "colab": {
     "base_uri": "https://localhost:8080/"
    },
    "executionInfo": {
     "elapsed": 6,
     "status": "ok",
     "timestamp": 1630921088634,
     "user": {
      "displayName": "Salman Sirumavilla",
      "photoUrl": "https://lh3.googleusercontent.com/a-/AOh14Gi0eIW6m0KUAHjPJMwwHdBSdC3UNQb_j8rzibSj=s64",
      "userId": "03152498435222547468"
     },
     "user_tz": -330
    },
    "id": "YEF6OAKraE9r",
    "outputId": "520ab6bf-0922-43dc-d1bd-f750d8bc233a"
   },
   "outputs": [
    {
     "data": {
      "text/plain": [
       "333"
      ]
     },
     "execution_count": 36,
     "metadata": {},
     "output_type": "execute_result"
    }
   ],
   "source": [
    "len(essay_padded_test[5])"
   ]
  },
  {
   "cell_type": "code",
   "execution_count": null,
   "metadata": {
    "id": "cbOem-MYaE9s"
   },
   "outputs": [],
   "source": [
    "try:\n",
    "    import dill as pickle\n",
    "except ImportError:\n",
    "    import pickle"
   ]
  },
  {
   "cell_type": "code",
   "execution_count": null,
   "metadata": {
    "id": "UrVMz8jfaE9s"
   },
   "outputs": [],
   "source": [
    "with open('/content/drive/MyDrive/Applied ai/for_colab/glove_vectors', 'rb') as f:\n",
    "    model = pickle.load(f)\n",
    "    glove_words =  set(model.keys())"
   ]
  },
  {
   "cell_type": "code",
   "execution_count": null,
   "metadata": {
    "id": "RSjFnISeaE9s"
   },
   "outputs": [],
   "source": [
    "#glove_words"
   ]
  },
  {
   "cell_type": "code",
   "execution_count": null,
   "metadata": {
    "colab": {
     "base_uri": "https://localhost:8080/"
    },
    "executionInfo": {
     "elapsed": 5,
     "status": "ok",
     "timestamp": 1630921155964,
     "user": {
      "displayName": "Salman Sirumavilla",
      "photoUrl": "https://lh3.googleusercontent.com/a-/AOh14Gi0eIW6m0KUAHjPJMwwHdBSdC3UNQb_j8rzibSj=s64",
      "userId": "03152498435222547468"
     },
     "user_tz": -330
    },
    "id": "CBBhqTc2aE9s",
    "outputId": "324a6eb4-2c87-4d2a-cece-78fe8cf30cee"
   },
   "outputs": [
    {
     "data": {
      "text/plain": [
       "array([ 3.7284e-01, -1.6815e-01,  6.7185e-02,  1.5902e-02, -4.0426e-01,\n",
       "       -7.0171e-01, -1.6178e-01,  6.3225e-01,  5.7326e-01, -1.4164e-01,\n",
       "       -3.4372e-01,  3.8187e-01,  3.8026e-01,  6.9173e-02, -8.1617e-02,\n",
       "       -1.1243e-01, -4.3106e-01, -1.4534e-01,  3.2936e-02, -4.6387e-02,\n",
       "        3.4674e-01,  2.6480e-01, -1.0388e-01,  4.3699e-02,  1.6757e-01,\n",
       "        1.7132e-01,  8.7222e-02, -4.3251e-01,  1.4380e-01,  1.6029e-01,\n",
       "        2.4105e-02,  3.0156e-01,  2.6712e-01, -9.2920e-02,  1.0270e-01,\n",
       "       -2.3622e-03,  2.7963e-02, -3.5531e-01,  6.1821e-01, -4.8037e-01,\n",
       "       -2.8285e-01, -2.8797e-02,  6.2059e-01, -4.7502e-01, -3.3531e-01,\n",
       "       -5.4226e-01,  6.3721e-01, -4.5038e-01, -1.9627e-01, -3.1119e-01,\n",
       "       -2.4223e-01,  2.5410e-01, -2.6833e-01, -4.5190e-01, -5.7673e-02,\n",
       "        3.1329e-01, -3.2769e-01,  2.1680e-01,  4.5747e-02,  1.8459e-01,\n",
       "       -4.6649e-01,  4.3855e-01, -3.6516e-01,  1.1623e-01,  3.9441e-01,\n",
       "       -2.8156e-01, -2.1946e-01,  7.4481e-02, -4.5509e-01,  4.6715e-02,\n",
       "       -1.3627e-01,  3.5227e-01, -4.6264e-01, -8.7228e-01, -3.5898e-01,\n",
       "       -3.2485e-01, -1.0506e-01,  1.3512e-01,  4.7139e-02, -5.0308e-01,\n",
       "       -6.7541e-01, -3.1775e-01, -4.3901e-01,  2.7041e-01, -1.0283e-01,\n",
       "       -5.9191e-01,  8.2085e-01, -5.6543e-02, -2.5215e-01, -2.2431e-01,\n",
       "        3.1225e-02, -3.0353e-01, -2.2095e-01, -3.3989e-01,  2.6049e-02,\n",
       "        5.0759e-01, -3.8674e-01, -2.7844e-01, -2.2618e-01,  9.0464e-02,\n",
       "        1.5203e-01,  2.0260e-01,  2.2809e-01,  2.7093e-01, -4.1994e-01,\n",
       "       -7.4791e-01, -1.6576e-01,  4.6991e-02,  8.6495e-01, -4.0607e-01,\n",
       "       -1.6512e-01,  2.5455e-02, -3.5758e-01, -1.5259e-01,  6.2355e-01,\n",
       "        2.2686e-01,  2.9290e-01,  2.5683e-01,  6.5252e-01,  2.3173e-01,\n",
       "       -7.6061e-02,  3.9020e-01,  2.4567e-01, -2.1195e-01, -5.6482e-01,\n",
       "        8.1335e-01, -2.0213e-01,  4.2573e-01,  1.0810e-01, -3.1317e-01,\n",
       "        1.2821e-01, -9.0856e-02, -1.3879e-01, -4.3852e-01,  7.1853e-01,\n",
       "       -9.4413e-01, -2.6379e-01,  4.7286e-02, -3.2667e-01, -2.9269e-02,\n",
       "        5.4736e-02,  6.8003e-02, -3.9693e-01,  1.5682e-02, -4.2927e-01,\n",
       "        4.3325e-01, -2.4153e-01,  2.4661e-01,  6.9286e-02, -8.0466e-02,\n",
       "        4.1837e-01, -1.7858e-01,  9.7569e-01,  7.8728e-01, -4.2635e-01,\n",
       "        3.3002e-01,  2.1009e-01,  1.4372e-01, -7.3485e-01,  6.1252e-02,\n",
       "        3.3738e-01, -5.4760e-01, -2.5525e-01, -6.8680e-03,  1.0259e-01,\n",
       "       -2.6133e-01,  1.8873e-02, -1.2772e-01, -4.4678e-01, -8.3848e-01,\n",
       "        1.0628e-01, -2.5023e-01,  1.6144e-02, -1.9646e-01,  5.1523e-03,\n",
       "        3.3254e-01,  2.7758e-01,  5.8486e-01, -1.5373e-01, -4.2149e-02,\n",
       "        4.0612e-02, -7.1638e-02, -1.2744e-01,  5.3809e-01, -1.5832e-01,\n",
       "        1.9614e-01, -2.1025e-01,  7.6517e-02,  4.7336e-01, -2.2802e-01,\n",
       "       -1.3411e-01,  3.4369e-01, -4.4268e-01,  6.2527e-01,  1.0734e-01,\n",
       "        9.4143e-02, -3.2357e-01, -1.3582e-01,  2.3147e-01,  2.0890e-01,\n",
       "        1.1875e-01,  4.2238e-01,  1.8666e-01, -1.7836e-01, -4.1608e-01,\n",
       "        2.0040e-01,  4.9170e-01, -2.9802e-01,  3.1076e-01, -4.1989e-01,\n",
       "       -1.0546e+00,  4.4626e-01, -4.3224e-01, -8.6584e-02, -7.4392e-01,\n",
       "        4.5178e-01,  1.9603e-01, -3.8665e-01, -2.7485e-01,  3.9382e-01,\n",
       "        1.2915e-01,  1.4542e-01,  2.4649e-01,  6.3603e-01,  1.0424e+00,\n",
       "        2.0561e-01,  7.9861e-01,  2.9076e-01,  4.7562e-01, -2.7262e-01,\n",
       "        2.4787e-01,  2.0756e-01,  7.3792e-02, -6.1109e-02, -5.5458e-01,\n",
       "        1.8075e-01, -2.3883e-01, -2.0367e-01,  1.5619e-01,  1.0563e-01,\n",
       "       -1.3270e-01, -6.3675e-02, -1.5188e-01, -1.6803e-01, -3.0585e-01,\n",
       "       -1.3330e-02,  4.0105e-01, -7.2343e-01,  5.9227e-02, -4.5321e-01,\n",
       "       -3.1926e-01,  9.8133e-02, -1.3011e-01,  2.2908e-01,  6.5397e-01,\n",
       "        3.8928e-01,  2.7809e-01, -7.0554e-01,  4.1436e-02, -1.4268e-01,\n",
       "        1.8744e-01,  1.1471e-01,  1.6238e-01,  3.5406e-01, -8.8451e-02,\n",
       "        6.5220e-02,  4.7835e-01, -3.7479e-01,  3.5724e-01, -1.7613e-01,\n",
       "       -6.3171e-01, -2.1878e-02, -5.4250e-02,  8.9051e-02,  5.4039e-01,\n",
       "       -2.4508e-01, -5.2191e-02,  1.8201e-01, -6.7788e-01, -1.1583e-01,\n",
       "        2.6440e-02,  4.4800e-01, -1.9153e-01, -2.3555e-01, -2.2194e-01,\n",
       "       -3.8872e-01,  4.5033e-02,  4.9640e-01,  2.8074e-01,  1.0482e-04,\n",
       "       -3.0174e-01, -6.5126e-01, -1.7654e-01,  5.4076e-01,  1.4305e-01,\n",
       "       -6.4243e-01,  3.9328e-01, -1.3775e-01, -6.0606e-01, -4.7656e-01])"
      ]
     },
     "execution_count": 40,
     "metadata": {},
     "output_type": "execute_result"
    }
   ],
   "source": [
    "model['catalyzing']"
   ]
  },
  {
   "cell_type": "code",
   "execution_count": null,
   "metadata": {
    "colab": {
     "base_uri": "https://localhost:8080/"
    },
    "executionInfo": {
     "elapsed": 748,
     "status": "ok",
     "timestamp": 1630921161950,
     "user": {
      "displayName": "Salman Sirumavilla",
      "photoUrl": "https://lh3.googleusercontent.com/a-/AOh14Gi0eIW6m0KUAHjPJMwwHdBSdC3UNQb_j8rzibSj=s64",
      "userId": "03152498435222547468"
     },
     "user_tz": -330
    },
    "id": "SQaOVRLeaE9s",
    "outputId": "75c03cf9-caf6-4ea6-ffaa-c8b4bfb14294"
   },
   "outputs": [
    {
     "data": {
      "text/plain": [
       "(300,)"
      ]
     },
     "execution_count": 41,
     "metadata": {},
     "output_type": "execute_result"
    }
   ],
   "source": [
    "model['catalyzing'].shape"
   ]
  },
  {
   "cell_type": "code",
   "execution_count": null,
   "metadata": {
    "colab": {
     "base_uri": "https://localhost:8080/"
    },
    "executionInfo": {
     "elapsed": 12,
     "status": "ok",
     "timestamp": 1630921164135,
     "user": {
      "displayName": "Salman Sirumavilla",
      "photoUrl": "https://lh3.googleusercontent.com/a-/AOh14Gi0eIW6m0KUAHjPJMwwHdBSdC3UNQb_j8rzibSj=s64",
      "userId": "03152498435222547468"
     },
     "user_tz": -330
    },
    "id": "YLQT0-nRaE9s",
    "outputId": "6c0ba5b3-061d-4dbb-e448-cae86a0411b0"
   },
   "outputs": [
    {
     "data": {
      "text/plain": [
       "51510"
      ]
     },
     "execution_count": 42,
     "metadata": {},
     "output_type": "execute_result"
    }
   ],
   "source": [
    "len(model)"
   ]
  },
  {
   "cell_type": "code",
   "execution_count": null,
   "metadata": {
    "colab": {
     "base_uri": "https://localhost:8080/"
    },
    "executionInfo": {
     "elapsed": 677,
     "status": "ok",
     "timestamp": 1630921186287,
     "user": {
      "displayName": "Salman Sirumavilla",
      "photoUrl": "https://lh3.googleusercontent.com/a-/AOh14Gi0eIW6m0KUAHjPJMwwHdBSdC3UNQb_j8rzibSj=s64",
      "userId": "03152498435222547468"
     },
     "user_tz": -330
    },
    "id": "issObLGNaE9s",
    "outputId": "1da3097a-5e03-48cc-955a-45058a6ed734"
   },
   "outputs": [
    {
     "name": "stdout",
     "output_type": "stream",
     "text": [
      "Totally  4303  words are not there in glove\n"
     ]
    }
   ],
   "source": [
    "non_glove_words=[]\n",
    "for index, word in token.index_word.items():\n",
    "    if word in glove_words:\n",
    "        glove_mat[index]=model[word]\n",
    "        \n",
    "    else:\n",
    "        non_glove_words.append(word)\n",
    "print('Totally ',len(non_glove_words),' words are not there in glove')"
   ]
  },
  {
   "cell_type": "code",
   "execution_count": null,
   "metadata": {
    "id": "bVS44v9gaE9t"
   },
   "outputs": [],
   "source": [
    "#non_glove_words"
   ]
  },
  {
   "cell_type": "code",
   "execution_count": null,
   "metadata": {
    "colab": {
     "base_uri": "https://localhost:8080/"
    },
    "executionInfo": {
     "elapsed": 5,
     "status": "ok",
     "timestamp": 1630921194781,
     "user": {
      "displayName": "Salman Sirumavilla",
      "photoUrl": "https://lh3.googleusercontent.com/a-/AOh14Gi0eIW6m0KUAHjPJMwwHdBSdC3UNQb_j8rzibSj=s64",
      "userId": "03152498435222547468"
     },
     "user_tz": -330
    },
    "id": "gUKvYz-UaE9t",
    "outputId": "043b89ff-0140-425a-e143-8cd963431dda"
   },
   "outputs": [
    {
     "data": {
      "text/plain": [
       "array([[ 0.       ,  0.       ,  0.       , ...,  0.       ,  0.       ,\n",
       "         0.       ],\n",
       "       [ 0.15243  , -0.16945  , -0.022748 , ...,  0.61801  ,  0.41281  ,\n",
       "         0.0010077],\n",
       "       [-0.043504 , -0.18484  , -0.14613  , ...,  0.1008   ,  0.1068   ,\n",
       "         0.089065 ],\n",
       "       ...,\n",
       "       [ 0.23381  ,  0.36567  ,  0.1353   , ..., -0.0093819, -0.35703  ,\n",
       "        -0.57934  ],\n",
       "       [-0.50861  ,  0.28529  ,  0.02926  , ..., -0.12062  ,  0.1823   ,\n",
       "         0.24667  ],\n",
       "       [ 0.47401  , -0.52709  , -0.37333  , ...,  0.036867 , -0.29506  ,\n",
       "         0.21174  ]])"
      ]
     },
     "execution_count": 46,
     "metadata": {},
     "output_type": "execute_result"
    }
   ],
   "source": [
    "glove_mat"
   ]
  },
  {
   "cell_type": "code",
   "execution_count": null,
   "metadata": {
    "colab": {
     "base_uri": "https://localhost:8080/"
    },
    "executionInfo": {
     "elapsed": 8,
     "status": "ok",
     "timestamp": 1630921197065,
     "user": {
      "displayName": "Salman Sirumavilla",
      "photoUrl": "https://lh3.googleusercontent.com/a-/AOh14Gi0eIW6m0KUAHjPJMwwHdBSdC3UNQb_j8rzibSj=s64",
      "userId": "03152498435222547468"
     },
     "user_tz": -330
    },
    "id": "2H4ACJ2RaE9t",
    "outputId": "8e0133b7-a08f-4756-baa9-4c1cce79c628"
   },
   "outputs": [
    {
     "data": {
      "text/plain": [
       "(46325, 300)"
      ]
     },
     "execution_count": 47,
     "metadata": {},
     "output_type": "execute_result"
    }
   ],
   "source": [
    "glove_mat.shape"
   ]
  },
  {
   "cell_type": "markdown",
   "metadata": {
    "id": "loi2cWkhaE9t"
   },
   "source": [
    "## School_state encoding:"
   ]
  },
  {
   "cell_type": "code",
   "execution_count": null,
   "metadata": {
    "id": "bcZ3G5g6aE9t"
   },
   "outputs": [],
   "source": [
    "schoolstate_train=X_train['school_state'].tolist()"
   ]
  },
  {
   "cell_type": "code",
   "execution_count": null,
   "metadata": {
    "colab": {
     "base_uri": "https://localhost:8080/"
    },
    "executionInfo": {
     "elapsed": 4,
     "status": "ok",
     "timestamp": 1630921201691,
     "user": {
      "displayName": "Salman Sirumavilla",
      "photoUrl": "https://lh3.googleusercontent.com/a-/AOh14Gi0eIW6m0KUAHjPJMwwHdBSdC3UNQb_j8rzibSj=s64",
      "userId": "03152498435222547468"
     },
     "user_tz": -330
    },
    "id": "L42umLKlaE9t",
    "outputId": "ca0f49d2-dc1a-444a-8673-06e5faf4673b"
   },
   "outputs": [
    {
     "data": {
      "text/plain": [
       "66466"
      ]
     },
     "execution_count": 49,
     "metadata": {},
     "output_type": "execute_result"
    }
   ],
   "source": [
    "len(schoolstate_train)"
   ]
  },
  {
   "cell_type": "code",
   "execution_count": null,
   "metadata": {
    "colab": {
     "base_uri": "https://localhost:8080/"
    },
    "executionInfo": {
     "elapsed": 8,
     "status": "ok",
     "timestamp": 1630921202398,
     "user": {
      "displayName": "Salman Sirumavilla",
      "photoUrl": "https://lh3.googleusercontent.com/a-/AOh14Gi0eIW6m0KUAHjPJMwwHdBSdC3UNQb_j8rzibSj=s64",
      "userId": "03152498435222547468"
     },
     "user_tz": -330
    },
    "id": "WbWfk0FIaE9t",
    "outputId": "08317310-d24f-46e1-8ed6-1af5d9c3219b"
   },
   "outputs": [
    {
     "data": {
      "text/plain": [
       "51"
      ]
     },
     "execution_count": 50,
     "metadata": {},
     "output_type": "execute_result"
    }
   ],
   "source": [
    "len(set(schoolstate_train))"
   ]
  },
  {
   "cell_type": "code",
   "execution_count": null,
   "metadata": {
    "id": "sEPLbtClaE9u"
   },
   "outputs": [],
   "source": [
    "schoolstate_len=len(set(schoolstate_train))"
   ]
  },
  {
   "cell_type": "code",
   "execution_count": null,
   "metadata": {
    "id": "JoYZaKSfaE9u"
   },
   "outputs": [],
   "source": [
    "from tensorflow.keras.preprocessing.text import one_hot\n",
    "ohe_school_state_train=[one_hot(state, schoolstate_len) for state in X_train['school_state'].tolist()]\n",
    "ohe_school_state_test=[one_hot(state, schoolstate_len) for state in X_test['school_state'].tolist()]\n",
    "ohe_school_state_cv=[one_hot(state, schoolstate_len) for state in X_cv['school_state'].tolist()]"
   ]
  },
  {
   "cell_type": "code",
   "execution_count": null,
   "metadata": {
    "colab": {
     "base_uri": "https://localhost:8080/"
    },
    "executionInfo": {
     "elapsed": 4,
     "status": "ok",
     "timestamp": 1630921219961,
     "user": {
      "displayName": "Salman Sirumavilla",
      "photoUrl": "https://lh3.googleusercontent.com/a-/AOh14Gi0eIW6m0KUAHjPJMwwHdBSdC3UNQb_j8rzibSj=s64",
      "userId": "03152498435222547468"
     },
     "user_tz": -330
    },
    "id": "wAKjGKVBaE9u",
    "outputId": "fb4c19a9-0dd0-4071-d2f0-b05822b97c04"
   },
   "outputs": [
    {
     "data": {
      "text/plain": [
       "[12]"
      ]
     },
     "execution_count": 54,
     "metadata": {},
     "output_type": "execute_result"
    }
   ],
   "source": [
    "ohe_school_state_train[5]"
   ]
  },
  {
   "cell_type": "code",
   "execution_count": null,
   "metadata": {
    "colab": {
     "base_uri": "https://localhost:8080/"
    },
    "executionInfo": {
     "elapsed": 8,
     "status": "ok",
     "timestamp": 1630921222207,
     "user": {
      "displayName": "Salman Sirumavilla",
      "photoUrl": "https://lh3.googleusercontent.com/a-/AOh14Gi0eIW6m0KUAHjPJMwwHdBSdC3UNQb_j8rzibSj=s64",
      "userId": "03152498435222547468"
     },
     "user_tz": -330
    },
    "id": "BEn42iimaE9u",
    "outputId": "777cecaa-102a-4987-8e13-4fe663115e61"
   },
   "outputs": [
    {
     "data": {
      "text/plain": [
       "1"
      ]
     },
     "execution_count": 55,
     "metadata": {},
     "output_type": "execute_result"
    }
   ],
   "source": [
    "len(ohe_school_state_train[5])"
   ]
  },
  {
   "cell_type": "markdown",
   "metadata": {
    "id": "lpLmA2HJaE9u"
   },
   "source": [
    "## Project_grade:"
   ]
  },
  {
   "cell_type": "code",
   "execution_count": null,
   "metadata": {
    "id": "kG3Z2om2aE9u"
   },
   "outputs": [],
   "source": [
    "prjectgrade_len=len(set(X_train['project_grade_category'].tolist()))\n",
    "ohe_project_grade_train=[one_hot(project_grade, prjectgrade_len, filters = '') for project_grade in X_train['project_grade_category'].tolist()]\n",
    "ohe_project_grade_test=[one_hot(project_grade, prjectgrade_len, filters = '') for project_grade in X_test['project_grade_category'].tolist()]\n",
    "ohe_project_grade_cv=[one_hot(project_grade, prjectgrade_len, filters = '') for project_grade in X_cv['project_grade_category'].tolist()]"
   ]
  },
  {
   "cell_type": "code",
   "execution_count": null,
   "metadata": {
    "colab": {
     "base_uri": "https://localhost:8080/"
    },
    "executionInfo": {
     "elapsed": 9,
     "status": "ok",
     "timestamp": 1630921229624,
     "user": {
      "displayName": "Salman Sirumavilla",
      "photoUrl": "https://lh3.googleusercontent.com/a-/AOh14Gi0eIW6m0KUAHjPJMwwHdBSdC3UNQb_j8rzibSj=s64",
      "userId": "03152498435222547468"
     },
     "user_tz": -330
    },
    "id": "9ByrD8n7aE9v",
    "outputId": "ec4f05fa-f1e2-46a1-efea-02511b3f41ce"
   },
   "outputs": [
    {
     "data": {
      "text/plain": [
       "[[1], [1], [1], [1], [1]]"
      ]
     },
     "execution_count": 57,
     "metadata": {},
     "output_type": "execute_result"
    }
   ],
   "source": [
    "ohe_project_grade_train[:5]"
   ]
  },
  {
   "cell_type": "markdown",
   "metadata": {
    "id": "o5bpUKISaE9v"
   },
   "source": [
    "## Clean_categories:"
   ]
  },
  {
   "cell_type": "code",
   "execution_count": null,
   "metadata": {
    "id": "yhzVA0RoaE9v"
   },
   "outputs": [],
   "source": [
    "cleancate_lst=X_train['clean_categories'].tolist()\n",
    "cleancate_join=' '.join(cleancate_lst)\n",
    "cleancate_len=len(set(cleancate_join.split()))\n",
    "clean_cate_train=[one_hot(clean_cate, cleancate_len, filters = ' ') for clean_cate in X_train['clean_categories'].tolist()]\n",
    "clean_cate_test=[one_hot(clean_cate, cleancate_len, filters = ' ') for clean_cate in X_test['clean_categories'].tolist()]\n",
    "clean_cate_cv=[one_hot(clean_cate, cleancate_len, filters = ' ') for clean_cate in X_cv['clean_categories'].tolist()]"
   ]
  },
  {
   "cell_type": "code",
   "execution_count": null,
   "metadata": {
    "colab": {
     "base_uri": "https://localhost:8080/"
    },
    "executionInfo": {
     "elapsed": 9,
     "status": "ok",
     "timestamp": 1630921234234,
     "user": {
      "displayName": "Salman Sirumavilla",
      "photoUrl": "https://lh3.googleusercontent.com/a-/AOh14Gi0eIW6m0KUAHjPJMwwHdBSdC3UNQb_j8rzibSj=s64",
      "userId": "03152498435222547468"
     },
     "user_tz": -330
    },
    "id": "D-QFrXHbaE9v",
    "outputId": "53df93ff-7ba5-46cb-ac98-aac312f53ef6"
   },
   "outputs": [
    {
     "data": {
      "text/plain": [
       "9"
      ]
     },
     "execution_count": 59,
     "metadata": {},
     "output_type": "execute_result"
    }
   ],
   "source": [
    "cleancate_len"
   ]
  },
  {
   "cell_type": "code",
   "execution_count": null,
   "metadata": {
    "colab": {
     "base_uri": "https://localhost:8080/"
    },
    "executionInfo": {
     "elapsed": 4,
     "status": "ok",
     "timestamp": 1630921236005,
     "user": {
      "displayName": "Salman Sirumavilla",
      "photoUrl": "https://lh3.googleusercontent.com/a-/AOh14Gi0eIW6m0KUAHjPJMwwHdBSdC3UNQb_j8rzibSj=s64",
      "userId": "03152498435222547468"
     },
     "user_tz": -330
    },
    "id": "qTvinZcRaE9v",
    "outputId": "57b5acf0-f9d8-4d95-d07e-308694bac424"
   },
   "outputs": [
    {
     "data": {
      "text/plain": [
       "66466"
      ]
     },
     "execution_count": 60,
     "metadata": {},
     "output_type": "execute_result"
    }
   ],
   "source": [
    "len(clean_cate_train)"
   ]
  },
  {
   "cell_type": "code",
   "execution_count": null,
   "metadata": {
    "colab": {
     "base_uri": "https://localhost:8080/"
    },
    "executionInfo": {
     "elapsed": 6,
     "status": "ok",
     "timestamp": 1630921237385,
     "user": {
      "displayName": "Salman Sirumavilla",
      "photoUrl": "https://lh3.googleusercontent.com/a-/AOh14Gi0eIW6m0KUAHjPJMwwHdBSdC3UNQb_j8rzibSj=s64",
      "userId": "03152498435222547468"
     },
     "user_tz": -330
    },
    "id": "bQtSj7p9aE9v",
    "outputId": "eea93b4d-0c9b-4384-bfc4-9cc181b37ed4"
   },
   "outputs": [
    {
     "data": {
      "text/plain": [
       "2"
      ]
     },
     "execution_count": 61,
     "metadata": {},
     "output_type": "execute_result"
    }
   ],
   "source": [
    "len(clean_cate_train[200])"
   ]
  },
  {
   "cell_type": "code",
   "execution_count": null,
   "metadata": {
    "id": "0ujp54y0aE9v"
   },
   "outputs": [],
   "source": [
    "cleancate_mxln=0\n",
    "val=''\n",
    "for ele in clean_cate_train:\n",
    "    if len(ele)>cleancate_mxln:\n",
    "        val=ele\n",
    "        cleancate_mxln=len(ele)"
   ]
  },
  {
   "cell_type": "code",
   "execution_count": null,
   "metadata": {
    "colab": {
     "base_uri": "https://localhost:8080/"
    },
    "executionInfo": {
     "elapsed": 8,
     "status": "ok",
     "timestamp": 1630921241956,
     "user": {
      "displayName": "Salman Sirumavilla",
      "photoUrl": "https://lh3.googleusercontent.com/a-/AOh14Gi0eIW6m0KUAHjPJMwwHdBSdC3UNQb_j8rzibSj=s64",
      "userId": "03152498435222547468"
     },
     "user_tz": -330
    },
    "id": "4QLJCg2CaE9v",
    "outputId": "33f30785-9432-4b59-d5cc-d5f895c57f1d"
   },
   "outputs": [
    {
     "data": {
      "text/plain": [
       "3"
      ]
     },
     "execution_count": 63,
     "metadata": {},
     "output_type": "execute_result"
    }
   ],
   "source": [
    "cleancate_mxln"
   ]
  },
  {
   "cell_type": "code",
   "execution_count": null,
   "metadata": {
    "colab": {
     "base_uri": "https://localhost:8080/"
    },
    "executionInfo": {
     "elapsed": 591,
     "status": "ok",
     "timestamp": 1630921245935,
     "user": {
      "displayName": "Salman Sirumavilla",
      "photoUrl": "https://lh3.googleusercontent.com/a-/AOh14Gi0eIW6m0KUAHjPJMwwHdBSdC3UNQb_j8rzibSj=s64",
      "userId": "03152498435222547468"
     },
     "user_tz": -330
    },
    "id": "oqrFRBwaaE9w",
    "outputId": "c5bd5f0b-439c-4711-c8f8-252afae5cb2f"
   },
   "outputs": [
    {
     "data": {
      "text/plain": [
       "[2, 1, 5]"
      ]
     },
     "execution_count": 64,
     "metadata": {},
     "output_type": "execute_result"
    }
   ],
   "source": [
    "val"
   ]
  },
  {
   "cell_type": "code",
   "execution_count": null,
   "metadata": {
    "id": "mxNcZe5AaE9w"
   },
   "outputs": [],
   "source": [
    "padded_cleancate_train = pad_sequences(clean_cate_train, maxlen=cleancate_mxln)\n",
    "padded_cleancate_test = pad_sequences(clean_cate_test, maxlen=cleancate_mxln)\n",
    "padded_cleancate_cv = pad_sequences(clean_cate_cv, maxlen=cleancate_mxln)"
   ]
  },
  {
   "cell_type": "code",
   "execution_count": null,
   "metadata": {
    "colab": {
     "base_uri": "https://localhost:8080/"
    },
    "executionInfo": {
     "elapsed": 8,
     "status": "ok",
     "timestamp": 1630921250347,
     "user": {
      "displayName": "Salman Sirumavilla",
      "photoUrl": "https://lh3.googleusercontent.com/a-/AOh14Gi0eIW6m0KUAHjPJMwwHdBSdC3UNQb_j8rzibSj=s64",
      "userId": "03152498435222547468"
     },
     "user_tz": -330
    },
    "id": "DwnsctMuaE9w",
    "outputId": "3c6a487e-b1e8-45db-979f-0a284d3bab4a"
   },
   "outputs": [
    {
     "data": {
      "text/plain": [
       "array([[0, 0, 1],\n",
       "       [0, 0, 4],\n",
       "       [0, 0, 5],\n",
       "       [0, 5, 2],\n",
       "       [0, 0, 5]], dtype=int32)"
      ]
     },
     "execution_count": 66,
     "metadata": {},
     "output_type": "execute_result"
    }
   ],
   "source": [
    "padded_cleancate_train[:5]"
   ]
  },
  {
   "cell_type": "markdown",
   "metadata": {
    "id": "LUgqRR0TaE9w"
   },
   "source": [
    "## Clean_subcategory:"
   ]
  },
  {
   "cell_type": "code",
   "execution_count": null,
   "metadata": {
    "id": "9rpIy_NjaE9w"
   },
   "outputs": [],
   "source": [
    "# cleansubcate_len=len(set(X_train['clean_subcategories'].tolist()))\n",
    "cleansubcate_lst=X_train['clean_subcategories'].tolist()\n",
    "cleansubcate_join=' '.join(cleansubcate_lst)\n",
    "cleansubcate_len=len(set(cleansubcate_join.split()))\n",
    "clean_subcate_train=[one_hot(clean_subcate, cleansubcate_len) for clean_subcate in X_train['clean_subcategories'].tolist()]\n",
    "clean_subcate_test=[one_hot(clean_subcate, cleansubcate_len) for clean_subcate in X_test['clean_subcategories'].tolist()]\n",
    "clean_subcate_cv=[one_hot(clean_subcate, cleansubcate_len) for clean_subcate in X_cv['clean_subcategories'].tolist()]"
   ]
  },
  {
   "cell_type": "code",
   "execution_count": null,
   "metadata": {
    "colab": {
     "base_uri": "https://localhost:8080/"
    },
    "executionInfo": {
     "elapsed": 7,
     "status": "ok",
     "timestamp": 1630921253141,
     "user": {
      "displayName": "Salman Sirumavilla",
      "photoUrl": "https://lh3.googleusercontent.com/a-/AOh14Gi0eIW6m0KUAHjPJMwwHdBSdC3UNQb_j8rzibSj=s64",
      "userId": "03152498435222547468"
     },
     "user_tz": -330
    },
    "id": "viJnLQy6aE9w",
    "outputId": "53b32d30-c2db-4594-dab1-899eeb0a5201"
   },
   "outputs": [
    {
     "data": {
      "text/plain": [
       "[[25], [11, 19], [22, 25, 12], [25, 12, 19], [3, 25, 12]]"
      ]
     },
     "execution_count": 68,
     "metadata": {},
     "output_type": "execute_result"
    }
   ],
   "source": [
    "clean_subcate_train[:5]"
   ]
  },
  {
   "cell_type": "code",
   "execution_count": null,
   "metadata": {
    "colab": {
     "base_uri": "https://localhost:8080/"
    },
    "executionInfo": {
     "elapsed": 9,
     "status": "ok",
     "timestamp": 1630921253950,
     "user": {
      "displayName": "Salman Sirumavilla",
      "photoUrl": "https://lh3.googleusercontent.com/a-/AOh14Gi0eIW6m0KUAHjPJMwwHdBSdC3UNQb_j8rzibSj=s64",
      "userId": "03152498435222547468"
     },
     "user_tz": -330
    },
    "id": "1sBEcmhMaE9w",
    "outputId": "282cc420-0e18-4473-d560-8122884bf4ac"
   },
   "outputs": [
    {
     "data": {
      "text/plain": [
       "30"
      ]
     },
     "execution_count": 69,
     "metadata": {},
     "output_type": "execute_result"
    }
   ],
   "source": [
    "cleansubcate_len"
   ]
  },
  {
   "cell_type": "code",
   "execution_count": null,
   "metadata": {
    "id": "NREsaUPEaE9x"
   },
   "outputs": [],
   "source": [
    "cleansubcate_mxln=0\n",
    "val2=''\n",
    "for ele in clean_subcate_train:\n",
    "    if len(ele)>cleansubcate_mxln:\n",
    "        val2=ele\n",
    "        cleansubcate_mxln=len(ele)"
   ]
  },
  {
   "cell_type": "code",
   "execution_count": null,
   "metadata": {
    "colab": {
     "base_uri": "https://localhost:8080/"
    },
    "executionInfo": {
     "elapsed": 7,
     "status": "ok",
     "timestamp": 1630921256320,
     "user": {
      "displayName": "Salman Sirumavilla",
      "photoUrl": "https://lh3.googleusercontent.com/a-/AOh14Gi0eIW6m0KUAHjPJMwwHdBSdC3UNQb_j8rzibSj=s64",
      "userId": "03152498435222547468"
     },
     "user_tz": -330
    },
    "id": "eVIR3ADVaE9x",
    "outputId": "0c62f099-0d21-41af-c108-621555f96791"
   },
   "outputs": [
    {
     "data": {
      "text/plain": [
       "5"
      ]
     },
     "execution_count": 71,
     "metadata": {},
     "output_type": "execute_result"
    }
   ],
   "source": [
    "cleansubcate_mxln"
   ]
  },
  {
   "cell_type": "code",
   "execution_count": null,
   "metadata": {
    "colab": {
     "base_uri": "https://localhost:8080/"
    },
    "executionInfo": {
     "elapsed": 6,
     "status": "ok",
     "timestamp": 1630921257860,
     "user": {
      "displayName": "Salman Sirumavilla",
      "photoUrl": "https://lh3.googleusercontent.com/a-/AOh14Gi0eIW6m0KUAHjPJMwwHdBSdC3UNQb_j8rzibSj=s64",
      "userId": "03152498435222547468"
     },
     "user_tz": -330
    },
    "id": "OW8K4C8WaE9x",
    "outputId": "8e489227-1a16-4063-c475-71b6566a3648"
   },
   "outputs": [
    {
     "data": {
      "text/plain": [
       "[25, 12, 11, 21, 15]"
      ]
     },
     "execution_count": 72,
     "metadata": {},
     "output_type": "execute_result"
    }
   ],
   "source": [
    "val2"
   ]
  },
  {
   "cell_type": "code",
   "execution_count": null,
   "metadata": {
    "id": "_ki1-dqDaE9x"
   },
   "outputs": [],
   "source": [
    "padded_cleansubcate_train = pad_sequences(clean_subcate_train, maxlen=cleansubcate_mxln)\n",
    "padded_cleansubcate_test = pad_sequences(clean_subcate_test, maxlen=cleansubcate_mxln)\n",
    "padded_cleansubcate_cv = pad_sequences(clean_subcate_cv, maxlen=cleansubcate_mxln)"
   ]
  },
  {
   "cell_type": "code",
   "execution_count": null,
   "metadata": {
    "colab": {
     "base_uri": "https://localhost:8080/"
    },
    "executionInfo": {
     "elapsed": 7,
     "status": "ok",
     "timestamp": 1630921261070,
     "user": {
      "displayName": "Salman Sirumavilla",
      "photoUrl": "https://lh3.googleusercontent.com/a-/AOh14Gi0eIW6m0KUAHjPJMwwHdBSdC3UNQb_j8rzibSj=s64",
      "userId": "03152498435222547468"
     },
     "user_tz": -330
    },
    "id": "5MhX0LTCaE9x",
    "outputId": "77d8bbbf-175b-45a1-8171-53439f92e74e"
   },
   "outputs": [
    {
     "data": {
      "text/plain": [
       "array([[ 0,  0,  0,  0, 25],\n",
       "       [ 0,  0,  0, 11, 19],\n",
       "       [ 0,  0, 22, 25, 12],\n",
       "       [ 0,  0, 25, 12, 19],\n",
       "       [ 0,  0,  3, 25, 12]], dtype=int32)"
      ]
     },
     "execution_count": 74,
     "metadata": {},
     "output_type": "execute_result"
    }
   ],
   "source": [
    "padded_cleansubcate_train[:5]"
   ]
  },
  {
   "cell_type": "markdown",
   "metadata": {
    "id": "Hf0nQFKXaE9x"
   },
   "source": [
    "## Teacher_prefix:"
   ]
  },
  {
   "cell_type": "code",
   "execution_count": null,
   "metadata": {
    "colab": {
     "base_uri": "https://localhost:8080/"
    },
    "executionInfo": {
     "elapsed": 6,
     "status": "ok",
     "timestamp": 1630921263891,
     "user": {
      "displayName": "Salman Sirumavilla",
      "photoUrl": "https://lh3.googleusercontent.com/a-/AOh14Gi0eIW6m0KUAHjPJMwwHdBSdC3UNQb_j8rzibSj=s64",
      "userId": "03152498435222547468"
     },
     "user_tz": -330
    },
    "id": "yXSWRRo0aE9x",
    "outputId": "edd5e8e8-7cf4-4247-ff51-55e6ebfcd802",
    "scrolled": true
   },
   "outputs": [
    {
     "data": {
      "text/plain": [
       "mrs        34933\n",
       "ms         23637\n",
       "mr          6476\n",
       "teacher     1409\n",
       "dr            11\n",
       "Name: teacher_prefix, dtype: int64"
      ]
     },
     "execution_count": 75,
     "metadata": {},
     "output_type": "execute_result"
    }
   ],
   "source": [
    "X_train['teacher_prefix'].value_counts()"
   ]
  },
  {
   "cell_type": "code",
   "execution_count": null,
   "metadata": {
    "id": "7KZMKpkJaE9y"
   },
   "outputs": [],
   "source": [
    "#X_train['teacher_prefix'].tolist()"
   ]
  },
  {
   "cell_type": "code",
   "execution_count": null,
   "metadata": {
    "colab": {
     "base_uri": "https://localhost:8080/"
    },
    "executionInfo": {
     "elapsed": 7,
     "status": "ok",
     "timestamp": 1630921268462,
     "user": {
      "displayName": "Salman Sirumavilla",
      "photoUrl": "https://lh3.googleusercontent.com/a-/AOh14Gi0eIW6m0KUAHjPJMwwHdBSdC3UNQb_j8rzibSj=s64",
      "userId": "03152498435222547468"
     },
     "user_tz": -330
    },
    "id": "NZ2-pXfdaE9y",
    "outputId": "411b27d6-c448-40ae-ead2-b344a9f9c14f"
   },
   "outputs": [
    {
     "data": {
      "text/plain": [
       "array(['mrs', 'teacher', 'mrs', ..., 'mr', 'mrs', 'mrs'], dtype=object)"
      ]
     },
     "execution_count": 77,
     "metadata": {},
     "output_type": "execute_result"
    }
   ],
   "source": [
    "X_train['teacher_prefix'].values"
   ]
  },
  {
   "cell_type": "code",
   "execution_count": null,
   "metadata": {
    "id": "i3nHIt1GaE9y"
   },
   "outputs": [],
   "source": [
    "teacher_prefix_len=len(set(X_train['teacher_prefix'].tolist()))\n",
    "teacher_prefix_train=[one_hot(prefix, teacher_prefix_len) for prefix in X_train['teacher_prefix'].tolist()]\n",
    "teacher_prefix_test=[one_hot(prefix, teacher_prefix_len) for prefix in X_test['teacher_prefix'].tolist()]\n",
    "teacher_prefix_cv=[one_hot(prefix, teacher_prefix_len) for prefix in X_cv['teacher_prefix'].tolist()]"
   ]
  },
  {
   "cell_type": "code",
   "execution_count": null,
   "metadata": {
    "id": "HqUkvHTXaE9y"
   },
   "outputs": [],
   "source": [
    "#teacher_prefix_len"
   ]
  },
  {
   "cell_type": "markdown",
   "metadata": {
    "id": "I-GCC3JUaE9y"
   },
   "source": [
    "## Numerical_features:"
   ]
  },
  {
   "cell_type": "code",
   "execution_count": null,
   "metadata": {
    "id": "FUDQL_GxaE9y"
   },
   "outputs": [],
   "source": [
    "remain_numeric_train = X_train[['teacher_number_of_previously_posted_projects', 'price']].values\n",
    "remain_numeric_test = X_test[['teacher_number_of_previously_posted_projects', 'price']].values\n",
    "remain_numeric_cv = X_cv[['teacher_number_of_previously_posted_projects', 'price']].values"
   ]
  },
  {
   "cell_type": "code",
   "execution_count": null,
   "metadata": {
    "id": "DKQNvb6BaE9y"
   },
   "outputs": [],
   "source": []
  },
  {
   "cell_type": "code",
   "execution_count": null,
   "metadata": {
    "id": "bTreANLgaE9y"
   },
   "outputs": [],
   "source": [
    "from tensorflow.keras.layers import Input, Embedding, LSTM, Concatenate, Dense,Dropout, Flatten\n",
    "from tensorflow.keras.models import Model\n",
    "from tensorflow.keras.optimizers import Adam"
   ]
  },
  {
   "cell_type": "code",
   "execution_count": null,
   "metadata": {
    "colab": {
     "base_uri": "https://localhost:8080/"
    },
    "executionInfo": {
     "elapsed": 5,
     "status": "ok",
     "timestamp": 1630921276442,
     "user": {
      "displayName": "Salman Sirumavilla",
      "photoUrl": "https://lh3.googleusercontent.com/a-/AOh14Gi0eIW6m0KUAHjPJMwwHdBSdC3UNQb_j8rzibSj=s64",
      "userId": "03152498435222547468"
     },
     "user_tz": -330
    },
    "id": "DY2b6mc0aE9z",
    "outputId": "95bc9e7d-a7b5-400a-91ee-066ca921b468"
   },
   "outputs": [
    {
     "data": {
      "text/plain": [
       "(66466, 333)"
      ]
     },
     "execution_count": 82,
     "metadata": {},
     "output_type": "execute_result"
    }
   ],
   "source": [
    "essay_padded_train.shape"
   ]
  },
  {
   "cell_type": "code",
   "execution_count": null,
   "metadata": {
    "colab": {
     "base_uri": "https://localhost:8080/"
    },
    "executionInfo": {
     "elapsed": 7,
     "status": "ok",
     "timestamp": 1630921277261,
     "user": {
      "displayName": "Salman Sirumavilla",
      "photoUrl": "https://lh3.googleusercontent.com/a-/AOh14Gi0eIW6m0KUAHjPJMwwHdBSdC3UNQb_j8rzibSj=s64",
      "userId": "03152498435222547468"
     },
     "user_tz": -330
    },
    "id": "835GWSy7aE9z",
    "outputId": "8a5dc184-fc4d-4566-f449-65be58434ac2"
   },
   "outputs": [
    {
     "data": {
      "text/plain": [
       "46325"
      ]
     },
     "execution_count": 83,
     "metadata": {},
     "output_type": "execute_result"
    }
   ],
   "source": [
    "vocab_size"
   ]
  },
  {
   "cell_type": "code",
   "execution_count": null,
   "metadata": {
    "colab": {
     "base_uri": "https://localhost:8080/"
    },
    "executionInfo": {
     "elapsed": 758,
     "status": "ok",
     "timestamp": 1630921280663,
     "user": {
      "displayName": "Salman Sirumavilla",
      "photoUrl": "https://lh3.googleusercontent.com/a-/AOh14Gi0eIW6m0KUAHjPJMwwHdBSdC3UNQb_j8rzibSj=s64",
      "userId": "03152498435222547468"
     },
     "user_tz": -330
    },
    "id": "5r-MrUEZaE9z",
    "outputId": "bf45c687-7f8a-4f30-f506-466505f0efde"
   },
   "outputs": [
    {
     "data": {
      "text/plain": [
       "333"
      ]
     },
     "execution_count": 84,
     "metadata": {},
     "output_type": "execute_result"
    }
   ],
   "source": [
    "mx_len"
   ]
  },
  {
   "cell_type": "code",
   "execution_count": null,
   "metadata": {
    "colab": {
     "base_uri": "https://localhost:8080/"
    },
    "executionInfo": {
     "elapsed": 25,
     "status": "ok",
     "timestamp": 1630921280664,
     "user": {
      "displayName": "Salman Sirumavilla",
      "photoUrl": "https://lh3.googleusercontent.com/a-/AOh14Gi0eIW6m0KUAHjPJMwwHdBSdC3UNQb_j8rzibSj=s64",
      "userId": "03152498435222547468"
     },
     "user_tz": -330
    },
    "id": "8wPGrRIIaE9z",
    "outputId": "03d58cd5-86a0-4c26-8b4e-d96680b5eef2"
   },
   "outputs": [
    {
     "data": {
      "text/plain": [
       "numpy.ndarray"
      ]
     },
     "execution_count": 85,
     "metadata": {},
     "output_type": "execute_result"
    }
   ],
   "source": [
    "type(essay_padded_train)"
   ]
  },
  {
   "cell_type": "code",
   "execution_count": null,
   "metadata": {
    "colab": {
     "base_uri": "https://localhost:8080/"
    },
    "executionInfo": {
     "elapsed": 18,
     "status": "ok",
     "timestamp": 1630921281258,
     "user": {
      "displayName": "Salman Sirumavilla",
      "photoUrl": "https://lh3.googleusercontent.com/a-/AOh14Gi0eIW6m0KUAHjPJMwwHdBSdC3UNQb_j8rzibSj=s64",
      "userId": "03152498435222547468"
     },
     "user_tz": -330
    },
    "id": "vHVbJwpVaE9z",
    "outputId": "7bfb9eb4-3f2e-4f68-a0bc-7d666719c3bb"
   },
   "outputs": [
    {
     "data": {
      "text/plain": [
       "(66466, 333)"
      ]
     },
     "execution_count": 86,
     "metadata": {},
     "output_type": "execute_result"
    }
   ],
   "source": [
    "essay_padded_train.shape"
   ]
  },
  {
   "cell_type": "code",
   "execution_count": null,
   "metadata": {
    "colab": {
     "base_uri": "https://localhost:8080/"
    },
    "executionInfo": {
     "elapsed": 12,
     "status": "ok",
     "timestamp": 1630921281258,
     "user": {
      "displayName": "Salman Sirumavilla",
      "photoUrl": "https://lh3.googleusercontent.com/a-/AOh14Gi0eIW6m0KUAHjPJMwwHdBSdC3UNQb_j8rzibSj=s64",
      "userId": "03152498435222547468"
     },
     "user_tz": -330
    },
    "id": "rz4FWs2xaE9z",
    "outputId": "66a8233b-b579-4b54-d094-befb73f3a6c0"
   },
   "outputs": [
    {
     "data": {
      "text/plain": [
       "numpy.ndarray"
      ]
     },
     "execution_count": 87,
     "metadata": {},
     "output_type": "execute_result"
    }
   ],
   "source": [
    "type(remain_numeric_train)"
   ]
  },
  {
   "cell_type": "code",
   "execution_count": null,
   "metadata": {
    "colab": {
     "base_uri": "https://localhost:8080/"
    },
    "executionInfo": {
     "elapsed": 7,
     "status": "ok",
     "timestamp": 1630921281259,
     "user": {
      "displayName": "Salman Sirumavilla",
      "photoUrl": "https://lh3.googleusercontent.com/a-/AOh14Gi0eIW6m0KUAHjPJMwwHdBSdC3UNQb_j8rzibSj=s64",
      "userId": "03152498435222547468"
     },
     "user_tz": -330
    },
    "id": "i5A9y_KNaE90",
    "outputId": "2d63a1f1-39f1-43e9-be4c-84c5fed51cf5"
   },
   "outputs": [
    {
     "data": {
      "text/plain": [
       "(numpy.ndarray, list, list, numpy.ndarray, numpy.ndarray, list, numpy.ndarray)"
      ]
     },
     "execution_count": 88,
     "metadata": {},
     "output_type": "execute_result"
    }
   ],
   "source": [
    "type(essay_padded_train), type(ohe_school_state_train), type(ohe_project_grade_train), type(padded_cleancate_train), type(padded_cleansubcate_train), type(teacher_prefix_train), type(remain_numeric_train)  "
   ]
  },
  {
   "cell_type": "markdown",
   "metadata": {
    "id": "b6qLbXGpaE90"
   },
   "source": [
    "## Model-1"
   ]
  },
  {
   "cell_type": "code",
   "execution_count": null,
   "metadata": {
    "colab": {
     "base_uri": "https://localhost:8080/"
    },
    "executionInfo": {
     "elapsed": 623,
     "status": "ok",
     "timestamp": 1630921294663,
     "user": {
      "displayName": "Salman Sirumavilla",
      "photoUrl": "https://lh3.googleusercontent.com/a-/AOh14Gi0eIW6m0KUAHjPJMwwHdBSdC3UNQb_j8rzibSj=s64",
      "userId": "03152498435222547468"
     },
     "user_tz": -330
    },
    "id": "M1Dpz_DpaE90",
    "outputId": "56af2363-1c06-4418-9edb-ff95b26eb86c"
   },
   "outputs": [
    {
     "name": "stdout",
     "output_type": "stream",
     "text": [
      "WARNING:tensorflow:`write_grads` will be ignored in TensorFlow 2.0 for the `TensorBoard` Callback.\n"
     ]
    }
   ],
   "source": [
    "def lr_update(epoch,lr):\n",
    "    if epoch%5 == 0 and lr>1e-4:\n",
    "        return lr - (0.1*lr)\n",
    "    else:\n",
    "        return lr\n",
    "\n",
    "from tensorflow.keras.callbacks import ModelCheckpoint\n",
    "from tensorflow.keras.callbacks import TerminateOnNaN\n",
    "from tensorflow.keras.callbacks import ReduceLROnPlateau\n",
    "from tensorflow.keras.callbacks import EarlyStopping\n",
    "from tensorflow.keras.callbacks import LearningRateScheduler\n",
    "from tensorflow.keras.callbacks import TensorBoard\n",
    "import datetime\n",
    "path=\"model1.hdf5\"\n",
    "log_dir=\"logs1/fit/\" + datetime.datetime.now().strftime(\"%Y%m%d-%H%M%S\")\n",
    "tensorboard_callback = TensorBoard(log_dir=log_dir,histogram_freq=1, write_graph=True,write_grads=True)\n",
    "learning_rate_callback = LearningRateScheduler(lr_update,verbose=1)\n",
    "model_callback = ModelCheckpoint(filepath=path, monitor='val_auc',  verbose=1, save_best_only=True, mode='max')\n",
    "early_callback = EarlyStopping(monitor=\"val_auc\",patience=10,mode='auto')"
   ]
  },
  {
   "cell_type": "code",
   "execution_count": null,
   "metadata": {
    "id": "zsSnjfBJaE90"
   },
   "outputs": [],
   "source": [
    "from sklearn.metrics import roc_auc_score\n",
    "def auc(y_true,y_pred):\n",
    "    return tf.py_function(roc_auc_score,(y_true,y_pred),tf.double)\n"
   ]
  },
  {
   "cell_type": "code",
   "execution_count": null,
   "metadata": {
    "id": "9n_jn9Q7aE90"
   },
   "outputs": [],
   "source": [
    "essay_input=Input(shape=(mx_len,))\n",
    "essay_embed = Embedding(vocab_size, 300, input_length=mx_len,weights=[glove_mat],trainable = False)(essay_input)\n",
    "essay_lstm=LSTM(15)(essay_embed)\n",
    "flatten_lstm = Flatten(data_format='channels_last',name='flatten')(essay_lstm)\n",
    "\n",
    "input_school_state = Input(shape=(1,))\n",
    "emb_school_state = Embedding(schoolstate_len, 3, input_length=1)(input_school_state)\n",
    "flatten_school_state = Flatten(data_format='channels_last',name='flatten_school_state')(emb_school_state)\n",
    "\n",
    "input_proj_grade = Input(shape=(1,))\n",
    "emb_proj_grade = Embedding(prjectgrade_len, 3, input_length=1)(input_proj_grade)\n",
    "flatten_proj_grade = Flatten(data_format='channels_last',name='flatten_proj_grade')(emb_proj_grade)\n",
    "\n",
    "input_clean_cate = Input(shape=(cleancate_mxln,))\n",
    "emb_clean_cate = Embedding(cleancate_len, 5, input_length=cleancate_mxln)(input_clean_cate)\n",
    "flatten_clean_cate = Flatten(data_format='channels_last',name='flatten_clean_cate')(emb_clean_cate)\n",
    "\n",
    "input_clean_subcate = Input(shape=(cleansubcate_mxln,))\n",
    "emb_clean_subcate = Embedding(cleansubcate_len, 5, input_length=cleansubcate_mxln)(input_clean_subcate)\n",
    "flatten_clean_subcate = Flatten(data_format='channels_last',name='flatten_clean_subcate')(emb_clean_subcate)\n",
    "\n",
    "input_teacher_prefix = Input(shape=(1,))\n",
    "emb_teacher_prefix = Embedding(teacher_prefix_len, 3, input_length=1)(input_teacher_prefix)\n",
    "flatten_teacher_prefix = Flatten(data_format='channels_last',name='flatten_teacher_prefix')(emb_teacher_prefix)\n",
    "\n",
    "input_numeric = Input(shape=(2,))\n",
    "numeric_layer = Dense(16, activation='relu')(input_numeric)\n",
    "\n",
    "\n",
    "conc = Concatenate(axis=1)([flatten_lstm,flatten_school_state,flatten_proj_grade,flatten_clean_cate,flatten_clean_subcate,flatten_teacher_prefix,numeric_layer])\n",
    "\n",
    "#dense\n",
    "FC1 = Dense(512,activation='relu',kernel_initializer='he_normal')(conc)\n",
    "\n",
    "#dropout\n",
    "drop1 = Dropout(0.4)(FC1)\n",
    "\n",
    "#dense\n",
    "FC2 = Dense(256,activation='relu',kernel_initializer='he_normal')(drop1)\n",
    "\n",
    "#dropout\n",
    "drop2 = Dropout(0.35)(FC2)\n",
    "\n",
    "#dense\n",
    "FC3 =Dense(64,activation='relu',kernel_initializer='he_normal')(drop2)\n",
    "\n",
    "#output\n",
    "output = Dense(1,activation='sigmoid',kernel_initializer='glorot_normal')(FC3)"
   ]
  },
  {
   "cell_type": "code",
   "execution_count": null,
   "metadata": {
    "id": "l3AkiA3daE90"
   },
   "outputs": [],
   "source": [
    "model1= Model(inputs=[essay_input, input_school_state,input_proj_grade,input_clean_cate,input_clean_subcate,input_teacher_prefix,input_numeric], outputs = output)"
   ]
  },
  {
   "cell_type": "code",
   "execution_count": null,
   "metadata": {
    "colab": {
     "base_uri": "https://localhost:8080/"
    },
    "executionInfo": {
     "elapsed": 635,
     "status": "ok",
     "timestamp": 1630921308532,
     "user": {
      "displayName": "Salman Sirumavilla",
      "photoUrl": "https://lh3.googleusercontent.com/a-/AOh14Gi0eIW6m0KUAHjPJMwwHdBSdC3UNQb_j8rzibSj=s64",
      "userId": "03152498435222547468"
     },
     "user_tz": -330
    },
    "id": "0tvWMDRRaE91",
    "outputId": "0bd719f9-d8de-4656-84db-5bdd935aeb64"
   },
   "outputs": [
    {
     "name": "stdout",
     "output_type": "stream",
     "text": [
      "Model: \"model\"\n",
      "__________________________________________________________________________________________________\n",
      "Layer (type)                    Output Shape         Param #     Connected to                     \n",
      "==================================================================================================\n",
      "input_1 (InputLayer)            [(None, 333)]        0                                            \n",
      "__________________________________________________________________________________________________\n",
      "embedding (Embedding)           (None, 333, 300)     13897500    input_1[0][0]                    \n",
      "__________________________________________________________________________________________________\n",
      "input_2 (InputLayer)            [(None, 1)]          0                                            \n",
      "__________________________________________________________________________________________________\n",
      "input_3 (InputLayer)            [(None, 1)]          0                                            \n",
      "__________________________________________________________________________________________________\n",
      "input_4 (InputLayer)            [(None, 3)]          0                                            \n",
      "__________________________________________________________________________________________________\n",
      "input_5 (InputLayer)            [(None, 5)]          0                                            \n",
      "__________________________________________________________________________________________________\n",
      "input_6 (InputLayer)            [(None, 1)]          0                                            \n",
      "__________________________________________________________________________________________________\n",
      "lstm (LSTM)                     (None, 15)           18960       embedding[0][0]                  \n",
      "__________________________________________________________________________________________________\n",
      "embedding_1 (Embedding)         (None, 1, 3)         153         input_2[0][0]                    \n",
      "__________________________________________________________________________________________________\n",
      "embedding_2 (Embedding)         (None, 1, 3)         12          input_3[0][0]                    \n",
      "__________________________________________________________________________________________________\n",
      "embedding_3 (Embedding)         (None, 3, 5)         45          input_4[0][0]                    \n",
      "__________________________________________________________________________________________________\n",
      "embedding_4 (Embedding)         (None, 5, 5)         150         input_5[0][0]                    \n",
      "__________________________________________________________________________________________________\n",
      "embedding_5 (Embedding)         (None, 1, 3)         15          input_6[0][0]                    \n",
      "__________________________________________________________________________________________________\n",
      "input_7 (InputLayer)            [(None, 2)]          0                                            \n",
      "__________________________________________________________________________________________________\n",
      "flatten (Flatten)               (None, 15)           0           lstm[0][0]                       \n",
      "__________________________________________________________________________________________________\n",
      "flatten_school_state (Flatten)  (None, 3)            0           embedding_1[0][0]                \n",
      "__________________________________________________________________________________________________\n",
      "flatten_proj_grade (Flatten)    (None, 3)            0           embedding_2[0][0]                \n",
      "__________________________________________________________________________________________________\n",
      "flatten_clean_cate (Flatten)    (None, 15)           0           embedding_3[0][0]                \n",
      "__________________________________________________________________________________________________\n",
      "flatten_clean_subcate (Flatten) (None, 25)           0           embedding_4[0][0]                \n",
      "__________________________________________________________________________________________________\n",
      "flatten_teacher_prefix (Flatten (None, 3)            0           embedding_5[0][0]                \n",
      "__________________________________________________________________________________________________\n",
      "dense (Dense)                   (None, 16)           48          input_7[0][0]                    \n",
      "__________________________________________________________________________________________________\n",
      "concatenate (Concatenate)       (None, 80)           0           flatten[0][0]                    \n",
      "                                                                 flatten_school_state[0][0]       \n",
      "                                                                 flatten_proj_grade[0][0]         \n",
      "                                                                 flatten_clean_cate[0][0]         \n",
      "                                                                 flatten_clean_subcate[0][0]      \n",
      "                                                                 flatten_teacher_prefix[0][0]     \n",
      "                                                                 dense[0][0]                      \n",
      "__________________________________________________________________________________________________\n",
      "dense_1 (Dense)                 (None, 512)          41472       concatenate[0][0]                \n",
      "__________________________________________________________________________________________________\n",
      "dropout (Dropout)               (None, 512)          0           dense_1[0][0]                    \n",
      "__________________________________________________________________________________________________\n",
      "dense_2 (Dense)                 (None, 256)          131328      dropout[0][0]                    \n",
      "__________________________________________________________________________________________________\n",
      "dropout_1 (Dropout)             (None, 256)          0           dense_2[0][0]                    \n",
      "__________________________________________________________________________________________________\n",
      "dense_3 (Dense)                 (None, 64)           16448       dropout_1[0][0]                  \n",
      "__________________________________________________________________________________________________\n",
      "dense_4 (Dense)                 (None, 1)            65          dense_3[0][0]                    \n",
      "==================================================================================================\n",
      "Total params: 14,106,196\n",
      "Trainable params: 208,696\n",
      "Non-trainable params: 13,897,500\n",
      "__________________________________________________________________________________________________\n"
     ]
    }
   ],
   "source": [
    "model1.summary()"
   ]
  },
  {
   "cell_type": "code",
   "execution_count": null,
   "metadata": {
    "id": "odhV6XFEaE91"
   },
   "outputs": [],
   "source": [
    "# !pip install pydot\n",
    "# !pip install graphviz"
   ]
  },
  {
   "cell_type": "code",
   "execution_count": null,
   "metadata": {
    "id": "w0P7tOrXaE91"
   },
   "outputs": [],
   "source": [
    "from tensorflow.keras.utils import plot_model"
   ]
  },
  {
   "cell_type": "code",
   "execution_count": null,
   "metadata": {
    "colab": {
     "base_uri": "https://localhost:8080/",
     "height": 448
    },
    "executionInfo": {
     "elapsed": 1504,
     "status": "ok",
     "timestamp": 1630921390099,
     "user": {
      "displayName": "Salman Sirumavilla",
      "photoUrl": "https://lh3.googleusercontent.com/a-/AOh14Gi0eIW6m0KUAHjPJMwwHdBSdC3UNQb_j8rzibSj=s64",
      "userId": "03152498435222547468"
     },
     "user_tz": -330
    },
    "id": "zFEdtM4QaE91",
    "outputId": "2403d178-ca06-4015-f641-ba2f94696104"
   },
   "outputs": [
    {
     "data": {
      "image/png": "[encoded data removed]",
      "text/plain": [
       "<IPython.core.display.Image object>"
      ]
     },
     "execution_count": 97,
     "metadata": {},
     "output_type": "execute_result"
    }
   ],
   "source": [
    "#https://machinelearningmastery.com/visualize-deep-learning-neural-network-model-keras/\n",
    "# from tensorflow.keras.utils.vis_utils import plot_model\n",
    "plot_model(model1, to_file='model1_plot.png', show_shapes=True, show_layer_names=True)"
   ]
  },
  {
   "cell_type": "code",
   "execution_count": null,
   "metadata": {
    "id": "hEQrSuV9aE91"
   },
   "outputs": [],
   "source": [
    "from tensorflow.keras.optimizers import Adam\n",
    "model1.compile(optimizer=Adam(learning_rate=0.001),loss='binary_crossentropy',metrics=['accuracy',auc])"
   ]
  },
  {
   "cell_type": "code",
   "execution_count": null,
   "metadata": {
    "id": "qm5D9IunaE91"
   },
   "outputs": [],
   "source": [
    "import warnings\n",
    "warnings.filterwarnings(\"ignore\")"
   ]
  },
  {
   "cell_type": "code",
   "execution_count": null,
   "metadata": {
    "colab": {
     "base_uri": "https://localhost:8080/"
    },
    "executionInfo": {
     "elapsed": 719260,
     "status": "ok",
     "timestamp": 1630922117176,
     "user": {
      "displayName": "Salman Sirumavilla",
      "photoUrl": "https://lh3.googleusercontent.com/a-/AOh14Gi0eIW6m0KUAHjPJMwwHdBSdC3UNQb_j8rzibSj=s64",
      "userId": "03152498435222547468"
     },
     "user_tz": -330
    },
    "id": "wi1Y8uBXaE91",
    "outputId": "92dbc20b-5c74-4adc-b769-9839b1417da5",
    "scrolled": true
   },
   "outputs": [
    {
     "name": "stdout",
     "output_type": "stream",
     "text": [
      "Epoch 1/20\n",
      "\n",
      "Epoch 00001: LearningRateScheduler setting learning rate to 0.0009000000427477062.\n",
      "1039/1039 [==============================] - 78s 68ms/step - loss: 0.7157 - accuracy: 0.8283 - auc: 0.5280 - val_loss: 0.4191 - val_accuracy: 0.8486 - val_auc: 0.5865\n",
      "\n",
      "Epoch 00001: val_auc improved from -inf to 0.58653, saving model to model1.hdf5\n",
      "Epoch 2/20\n",
      "\n",
      "Epoch 00002: LearningRateScheduler setting learning rate to 0.0009000000427477062.\n",
      "1039/1039 [==============================] - 69s 66ms/step - loss: 0.4281 - accuracy: 0.8483 - auc: 0.5759 - val_loss: 0.4154 - val_accuracy: 0.8486 - val_auc: 0.6212\n",
      "\n",
      "Epoch 00002: val_auc improved from 0.58653 to 0.62123, saving model to model1.hdf5\n",
      "Epoch 3/20\n",
      "\n",
      "Epoch 00003: LearningRateScheduler setting learning rate to 0.0009000000427477062.\n",
      "1039/1039 [==============================] - 64s 62ms/step - loss: 0.4060 - accuracy: 0.8485 - auc: 0.6666 - val_loss: 0.3865 - val_accuracy: 0.8486 - val_auc: 0.7145\n",
      "\n",
      "Epoch 00003: val_auc improved from 0.62123 to 0.71449, saving model to model1.hdf5\n",
      "Epoch 4/20\n",
      "\n",
      "Epoch 00004: LearningRateScheduler setting learning rate to 0.0009000000427477062.\n",
      "1039/1039 [==============================] - 63s 61ms/step - loss: 0.3860 - accuracy: 0.8485 - auc: 0.7224 - val_loss: 0.3842 - val_accuracy: 0.8486 - val_auc: 0.7322\n",
      "\n",
      "Epoch 00004: val_auc improved from 0.71449 to 0.73223, saving model to model1.hdf5\n",
      "Epoch 5/20\n",
      "\n",
      "Epoch 00005: LearningRateScheduler setting learning rate to 0.0009000000427477062.\n",
      "1039/1039 [==============================] - 63s 60ms/step - loss: 0.3774 - accuracy: 0.8484 - auc: 0.7406 - val_loss: 0.3840 - val_accuracy: 0.8486 - val_auc: 0.7389\n",
      "\n",
      "Epoch 00005: val_auc improved from 0.73223 to 0.73894, saving model to model1.hdf5\n",
      "Epoch 6/20\n",
      "\n",
      "Epoch 00006: LearningRateScheduler setting learning rate to 0.0008100000384729355.\n",
      "1039/1039 [==============================] - 62s 59ms/step - loss: 0.3701 - accuracy: 0.8489 - auc: 0.7568 - val_loss: 0.3708 - val_accuracy: 0.8486 - val_auc: 0.7480\n",
      "\n",
      "Epoch 00006: val_auc improved from 0.73894 to 0.74800, saving model to model1.hdf5\n",
      "Epoch 7/20\n",
      "\n",
      "Epoch 00007: LearningRateScheduler setting learning rate to 0.0008100000559352338.\n",
      "1039/1039 [==============================] - 64s 62ms/step - loss: 0.3611 - accuracy: 0.8513 - auc: 0.7696 - val_loss: 0.3724 - val_accuracy: 0.8487 - val_auc: 0.7438\n",
      "\n",
      "Epoch 00007: val_auc did not improve from 0.74800\n",
      "Epoch 8/20\n",
      "\n",
      "Epoch 00008: LearningRateScheduler setting learning rate to 0.0008100000559352338.\n",
      "1039/1039 [==============================] - 62s 60ms/step - loss: 0.3550 - accuracy: 0.8555 - auc: 0.7766 - val_loss: 0.3677 - val_accuracy: 0.8517 - val_auc: 0.7512\n",
      "\n",
      "Epoch 00008: val_auc improved from 0.74800 to 0.75121, saving model to model1.hdf5\n",
      "Epoch 9/20\n",
      "\n",
      "Epoch 00009: LearningRateScheduler setting learning rate to 0.0008100000559352338.\n",
      "1039/1039 [==============================] - 54s 52ms/step - loss: 0.3491 - accuracy: 0.8586 - auc: 0.7872 - val_loss: 0.3762 - val_accuracy: 0.8547 - val_auc: 0.7528\n",
      "\n",
      "Epoch 00009: val_auc improved from 0.75121 to 0.75279, saving model to model1.hdf5\n",
      "Epoch 10/20\n",
      "\n",
      "Epoch 00010: LearningRateScheduler setting learning rate to 0.0008100000559352338.\n",
      "1039/1039 [==============================] - 58s 56ms/step - loss: 0.3442 - accuracy: 0.8612 - auc: 0.7961 - val_loss: 0.3671 - val_accuracy: 0.8534 - val_auc: 0.7501\n",
      "\n",
      "Epoch 00010: val_auc did not improve from 0.75279\n",
      "Epoch 11/20\n",
      "\n",
      "Epoch 00011: LearningRateScheduler setting learning rate to 0.0007290000503417104.\n",
      "1039/1039 [==============================] - 59s 57ms/step - loss: 0.3381 - accuracy: 0.8642 - auc: 0.8048 - val_loss: 0.3745 - val_accuracy: 0.8445 - val_auc: 0.7491\n",
      "\n",
      "Epoch 00011: val_auc did not improve from 0.75279\n"
     ]
    },
    {
     "data": {
      "text/plain": [
       "<keras.callbacks.History at 0x7f7f7a355950>"
      ]
     },
     "execution_count": 100,
     "metadata": {},
     "output_type": "execute_result"
    }
   ],
   "source": [
    "model1.fit([essay_padded_train,np.array(ohe_school_state_train),np.array(ohe_project_grade_train),padded_cleancate_train,padded_cleansubcate_train,np.array(teacher_prefix_train),remain_numeric_train],y_train,validation_data=([essay_padded_cv,np.array(ohe_school_state_cv),np.array(ohe_project_grade_cv),padded_cleancate_cv,padded_cleansubcate_cv,np.array(teacher_prefix_cv),remain_numeric_cv],y_cv),batch_size=64,epochs=20,callbacks=[tensorboard_callback,model_callback,learning_rate_callback,early_callback])"
   ]
  },
  {
   "cell_type": "code",
   "execution_count": null,
   "metadata": {
    "id": "w6dvtdnLaE92"
   },
   "outputs": [],
   "source": [
    "%load_ext tensorboard"
   ]
  },
  {
   "cell_type": "code",
   "execution_count": null,
   "metadata": {
    "colab": {
     "base_uri": "https://localhost:8080/",
     "height": 17
    },
    "executionInfo": {
     "elapsed": 4819,
     "status": "ok",
     "timestamp": 1630922154944,
     "user": {
      "displayName": "Salman Sirumavilla",
      "photoUrl": "https://lh3.googleusercontent.com/a-/AOh14Gi0eIW6m0KUAHjPJMwwHdBSdC3UNQb_j8rzibSj=s64",
      "userId": "03152498435222547468"
     },
     "user_tz": -330
    },
    "id": "tPc3guFkaE92",
    "outputId": "5a001e22-cf15-46a9-cc80-a7fd828dc786"
   },
   "outputs": [
    {
     "data": {
      "application/javascript": [
       "\n",
       "        (async () => {\n",
       "            const url = new URL(await google.colab.kernel.proxyPort(6006, {'cache': true}));\n",
       "            url.searchParams.set('tensorboardColab', 'true');\n",
       "            const iframe = document.createElement('iframe');\n",
       "            iframe.src = url;\n",
       "            iframe.setAttribute('width', '100%');\n",
       "            iframe.setAttribute('height', '800');\n",
       "            iframe.setAttribute('frameborder', 0);\n",
       "            document.body.appendChild(iframe);\n",
       "        })();\n",
       "    "
      ],
      "text/plain": [
       "<IPython.core.display.Javascript object>"
      ]
     },
     "metadata": {},
     "output_type": "display_data"
    }
   ],
   "source": [
    "%tensorboard --logdir logs1/fit/"
   ]
  },
  {
   "cell_type": "code",
   "execution_count": null,
   "metadata": {
    "id": "OsRyzBFeaE92",
    "outputId": "ab580050-8a5c-46ad-84e7-64d113b39da2"
   },
   "outputs": [
    {
     "data": {
      "text/plain": [
       "0.7565094813271557"
      ]
     },
     "execution_count": 166,
     "metadata": {},
     "output_type": "execute_result"
    }
   ],
   "source": [
    "from sklearn.metrics import auc, roc_curve\n",
    "y_test_pred = model1.predict([essay_padded_test,np.array(ohe_school_state_test),np.array(ohe_project_grade_test),padded_cleancate_test,padded_cleansubcate_test,np.array(teacher_prefix_test),remain_numeric_test])\n",
    "test_fpr, test_tpr, thres = roc_curve(y_test, y_test_pred)\n",
    "auc(test_fpr, test_tpr)"
   ]
  },
  {
   "cell_type": "markdown",
   "metadata": {
    "id": "3uHug5z5oJpU"
   },
   "source": [
    "## In the initial epochs, the model performed well and gave higher AUC scores for validation data compared to train data. But on later epochs, model slowly started overfitting. Compared to model2, model1 converged faster for higher AUC"
   ]
  },
  {
   "cell_type": "code",
   "execution_count": null,
   "metadata": {},
   "outputs": [],
   "source": []
  }
 ],
 "metadata": {
  "accelerator": "GPU",
  "colab": {
   "collapsed_sections": [
    "F1wY5DBgaE9j",
    "loi2cWkhaE9t",
    "lpLmA2HJaE9u",
    "o5bpUKISaE9v",
    "LUgqRR0TaE9w",
    "Hf0nQFKXaE9x",
    "I-GCC3JUaE9y"
   ],
   "name": "LSTM - Assignment_model1.ipynb",
   "provenance": []
  },
  "kernelspec": {
   "display_name": "Python 3 (ipykernel)",
   "language": "python",
   "name": "python3"
  },
  "language_info": {
   "codemirror_mode": {
    "name": "ipython",
    "version": 3
   },
   "file_extension": ".py",
   "mimetype": "text/x-python",
   "name": "python",
   "nbconvert_exporter": "python",
   "pygments_lexer": "ipython3",
   "version": "3.8.0"
  }
 },
 "nbformat": 4,
 "nbformat_minor": 1
}
